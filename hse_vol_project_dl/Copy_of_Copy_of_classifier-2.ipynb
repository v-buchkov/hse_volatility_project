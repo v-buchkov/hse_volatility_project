{
 "cells": [
  {
   "cell_type": "markdown",
   "metadata": {
    "id": "kvkgktk9EUut"
   },
   "source": [
    "Get data from github"
   ]
  },
  {
   "cell_type": "code",
   "execution_count": 1,
   "metadata": {
    "colab": {
     "base_uri": "https://localhost:8080/"
    },
    "id": "pbiccyZg6-kE",
    "outputId": "d24f14f4-654d-468e-fa63-25f5d1c360ae"
   },
   "outputs": [
    {
     "name": "stdout",
     "output_type": "stream",
     "text": [
      "--2023-06-26 10:16:26--  https://raw.githubusercontent.com/shitkov/bert4classification/main/bert_dataset.py\n",
      "Resolving raw.githubusercontent.com (raw.githubusercontent.com)... 185.199.108.133, 185.199.109.133, 185.199.110.133, ...\n",
      "Connecting to raw.githubusercontent.com (raw.githubusercontent.com)|185.199.108.133|:443... connected.\n",
      "HTTP request sent, awaiting response... 200 OK\n",
      "Length: 891 [text/plain]\n",
      "Saving to: ‘bert_dataset.py’\n",
      "\n",
      "\r",
      "bert_dataset.py       0%[                    ]       0  --.-KB/s               \r",
      "bert_dataset.py     100%[===================>]     891  --.-KB/s    in 0s      \n",
      "\n",
      "2023-06-26 10:16:26 (48.3 MB/s) - ‘bert_dataset.py’ saved [891/891]\n",
      "\n"
     ]
    }
   ],
   "source": [
    "!wget https://raw.githubusercontent.com/shitkov/bert4classification/main/bert_dataset.py"
   ]
  },
  {
   "cell_type": "markdown",
   "metadata": {
    "id": "JasJclP8E3qG"
   },
   "source": [
    "Installing Packages"
   ]
  },
  {
   "cell_type": "code",
   "execution_count": 2,
   "metadata": {
    "colab": {
     "base_uri": "https://localhost:8080/"
    },
    "id": "J93Ra5GZqlPm",
    "outputId": "79d3d46c-5289-4c84-c185-ed7a9b85fd5a"
   },
   "outputs": [
    {
     "name": "stdout",
     "output_type": "stream",
     "text": [
      "Looking in indexes: https://pypi.org/simple, https://us-python.pkg.dev/colab-wheels/public/simple/\n",
      "Collecting sentencepiece==0.1.95\n",
      "  Downloading sentencepiece-0.1.95.tar.gz (508 kB)\n",
      "\u001b[2K     \u001b[90m━━━━━━━━━━━━━━━━━━━━━━━━━━━━━━━━━━━━━━\u001b[0m \u001b[32m508.7/508.7 kB\u001b[0m \u001b[31m32.5 MB/s\u001b[0m eta \u001b[36m0:00:00\u001b[0m\n",
      "\u001b[?25h  Preparing metadata (setup.py) ... \u001b[?25l\u001b[?25hdone\n",
      "Building wheels for collected packages: sentencepiece\n",
      "  Building wheel for sentencepiece (setup.py) ... \u001b[?25l\u001b[?25hdone\n",
      "  Created wheel for sentencepiece: filename=sentencepiece-0.1.95-cp310-cp310-linux_x86_64.whl size=1546207 sha256=d91362e200f83b1c7a6bda4411c3de342aa62672aaceb516ad9ed2d771c703b4\n",
      "  Stored in directory: /root/.cache/pip/wheels/ef/a4/01/5a500fc0c5a38917ef408c245eb40b7ac96f4a30fc6a346a4c\n",
      "Successfully built sentencepiece\n",
      "Installing collected packages: sentencepiece\n",
      "Successfully installed sentencepiece-0.1.95\n"
     ]
    }
   ],
   "source": [
    "!pip install sentencepiece==0.1.95"
   ]
  },
  {
   "cell_type": "code",
   "execution_count": 3,
   "metadata": {
    "colab": {
     "base_uri": "https://localhost:8080/"
    },
    "id": "DbdsPqwCsLFU",
    "outputId": "08dc967b-3598-47af-c0ff-d816cc22b06b"
   },
   "outputs": [
    {
     "name": "stdout",
     "output_type": "stream",
     "text": [
      "Looking in indexes: https://pypi.org/simple, https://us-python.pkg.dev/colab-wheels/public/simple/\n",
      "Collecting transformers\n",
      "  Downloading transformers-4.30.2-py3-none-any.whl (7.2 MB)\n",
      "\u001b[2K     \u001b[90m━━━━━━━━━━━━━━━━━━━━━━━━━━━━━━━━━━━━━━━━\u001b[0m \u001b[32m7.2/7.2 MB\u001b[0m \u001b[31m78.9 MB/s\u001b[0m eta \u001b[36m0:00:00\u001b[0m\n",
      "\u001b[?25hRequirement already satisfied: filelock in /usr/local/lib/python3.10/dist-packages (from transformers) (3.12.2)\n",
      "Collecting huggingface-hub<1.0,>=0.14.1 (from transformers)\n",
      "  Downloading huggingface_hub-0.15.1-py3-none-any.whl (236 kB)\n",
      "\u001b[2K     \u001b[90m━━━━━━━━━━━━━━━━━━━━━━━━━━━━━━━━━━━━━━\u001b[0m \u001b[32m236.8/236.8 kB\u001b[0m \u001b[31m26.1 MB/s\u001b[0m eta \u001b[36m0:00:00\u001b[0m\n",
      "\u001b[?25hRequirement already satisfied: numpy>=1.17 in /usr/local/lib/python3.10/dist-packages (from transformers) (1.22.4)\n",
      "Requirement already satisfied: packaging>=20.0 in /usr/local/lib/python3.10/dist-packages (from transformers) (23.1)\n",
      "Requirement already satisfied: pyyaml>=5.1 in /usr/local/lib/python3.10/dist-packages (from transformers) (6.0)\n",
      "Requirement already satisfied: regex!=2019.12.17 in /usr/local/lib/python3.10/dist-packages (from transformers) (2022.10.31)\n",
      "Requirement already satisfied: requests in /usr/local/lib/python3.10/dist-packages (from transformers) (2.27.1)\n",
      "Collecting tokenizers!=0.11.3,<0.14,>=0.11.1 (from transformers)\n",
      "  Downloading tokenizers-0.13.3-cp310-cp310-manylinux_2_17_x86_64.manylinux2014_x86_64.whl (7.8 MB)\n",
      "\u001b[2K     \u001b[90m━━━━━━━━━━━━━━━━━━━━━━━━━━━━━━━━━━━━━━━━\u001b[0m \u001b[32m7.8/7.8 MB\u001b[0m \u001b[31m89.3 MB/s\u001b[0m eta \u001b[36m0:00:00\u001b[0m\n",
      "\u001b[?25hCollecting safetensors>=0.3.1 (from transformers)\n",
      "  Downloading safetensors-0.3.1-cp310-cp310-manylinux_2_17_x86_64.manylinux2014_x86_64.whl (1.3 MB)\n",
      "\u001b[2K     \u001b[90m━━━━━━━━━━━━━━━━━━━━━━━━━━━━━━━━━━━━━━━━\u001b[0m \u001b[32m1.3/1.3 MB\u001b[0m \u001b[31m85.7 MB/s\u001b[0m eta \u001b[36m0:00:00\u001b[0m\n",
      "\u001b[?25hRequirement already satisfied: tqdm>=4.27 in /usr/local/lib/python3.10/dist-packages (from transformers) (4.65.0)\n",
      "Requirement already satisfied: fsspec in /usr/local/lib/python3.10/dist-packages (from huggingface-hub<1.0,>=0.14.1->transformers) (2023.6.0)\n",
      "Requirement already satisfied: typing-extensions>=3.7.4.3 in /usr/local/lib/python3.10/dist-packages (from huggingface-hub<1.0,>=0.14.1->transformers) (4.6.3)\n",
      "Requirement already satisfied: urllib3<1.27,>=1.21.1 in /usr/local/lib/python3.10/dist-packages (from requests->transformers) (1.26.16)\n",
      "Requirement already satisfied: certifi>=2017.4.17 in /usr/local/lib/python3.10/dist-packages (from requests->transformers) (2023.5.7)\n",
      "Requirement already satisfied: charset-normalizer~=2.0.0 in /usr/local/lib/python3.10/dist-packages (from requests->transformers) (2.0.12)\n",
      "Requirement already satisfied: idna<4,>=2.5 in /usr/local/lib/python3.10/dist-packages (from requests->transformers) (3.4)\n",
      "Installing collected packages: tokenizers, safetensors, huggingface-hub, transformers\n",
      "Successfully installed huggingface-hub-0.15.1 safetensors-0.3.1 tokenizers-0.13.3 transformers-4.30.2\n"
     ]
    }
   ],
   "source": [
    "!pip install transformers"
   ]
  },
  {
   "cell_type": "code",
   "execution_count": 4,
   "metadata": {
    "id": "-tsq1G0m7sdr"
   },
   "outputs": [],
   "source": [
    "import pandas as pd"
   ]
  },
  {
   "cell_type": "code",
   "execution_count": 5,
   "metadata": {
    "colab": {
     "base_uri": "https://localhost:8080/"
    },
    "id": "wTwmVaZJt2w-",
    "outputId": "d3fe1b9c-adae-4cc0-bc15-81263f3e3b7e"
   },
   "outputs": [
    {
     "name": "stdout",
     "output_type": "stream",
     "text": [
      "Looking in indexes: https://pypi.org/simple, https://us-python.pkg.dev/colab-wheels/public/simple/\n",
      "Collecting pymorphy2\n",
      "  Downloading pymorphy2-0.9.1-py3-none-any.whl (55 kB)\n",
      "\u001b[2K     \u001b[90m━━━━━━━━━━━━━━━━━━━━━━━━━━━━━━━━━━━━━━━━\u001b[0m \u001b[32m55.5/55.5 kB\u001b[0m \u001b[31m7.2 MB/s\u001b[0m eta \u001b[36m0:00:00\u001b[0m\n",
      "\u001b[?25hCollecting dawg-python>=0.7.1 (from pymorphy2)\n",
      "  Downloading DAWG_Python-0.7.2-py2.py3-none-any.whl (11 kB)\n",
      "Collecting pymorphy2-dicts-ru<3.0,>=2.4 (from pymorphy2)\n",
      "  Downloading pymorphy2_dicts_ru-2.4.417127.4579844-py2.py3-none-any.whl (8.2 MB)\n",
      "\u001b[2K     \u001b[90m━━━━━━━━━━━━━━━━━━━━━━━━━━━━━━━━━━━━━━━━\u001b[0m \u001b[32m8.2/8.2 MB\u001b[0m \u001b[31m111.8 MB/s\u001b[0m eta \u001b[36m0:00:00\u001b[0m\n",
      "\u001b[?25hCollecting docopt>=0.6 (from pymorphy2)\n",
      "  Downloading docopt-0.6.2.tar.gz (25 kB)\n",
      "  Preparing metadata (setup.py) ... \u001b[?25l\u001b[?25hdone\n",
      "Building wheels for collected packages: docopt\n",
      "  Building wheel for docopt (setup.py) ... \u001b[?25l\u001b[?25hdone\n",
      "  Created wheel for docopt: filename=docopt-0.6.2-py2.py3-none-any.whl size=13707 sha256=6ebbbc4a7e62a10741db1cb0aca631631a0fa65c79b5bc9f1953d14a7e9bd073\n",
      "  Stored in directory: /root/.cache/pip/wheels/fc/ab/d4/5da2067ac95b36618c629a5f93f809425700506f72c9732fac\n",
      "Successfully built docopt\n",
      "Installing collected packages: pymorphy2-dicts-ru, docopt, dawg-python, pymorphy2\n",
      "Successfully installed dawg-python-0.7.2 docopt-0.6.2 pymorphy2-0.9.1 pymorphy2-dicts-ru-2.4.417127.4579844\n"
     ]
    }
   ],
   "source": [
    "!pip install pymorphy2"
   ]
  },
  {
   "cell_type": "code",
   "execution_count": 6,
   "metadata": {
    "id": "jSiGixRy-h2c"
   },
   "outputs": [],
   "source": [
    "from bert_dataset import CustomDataset\n",
    "from bert_classifier import BertClassifier"
   ]
  },
  {
   "cell_type": "code",
   "execution_count": 7,
   "metadata": {
    "colab": {
     "base_uri": "https://localhost:8080/"
    },
    "id": "5e5sF6QtqHCn",
    "outputId": "a7cd23c1-0131-4b0e-89cf-2c3770b46aa1"
   },
   "outputs": [
    {
     "name": "stdout",
     "output_type": "stream",
     "text": [
      "Mounted at /content/drive\n"
     ]
    }
   ],
   "source": [
    "from google.colab import drive\n",
    "drive.mount('/content/drive')"
   ]
  },
  {
   "cell_type": "code",
   "execution_count": 8,
   "metadata": {
    "id": "eT5i9Gdtp02c"
   },
   "outputs": [],
   "source": [
    "RANDOM_STATE = 12"
   ]
  },
  {
   "cell_type": "code",
   "execution_count": 9,
   "metadata": {
    "id": "Vn4cLBDVq5M9"
   },
   "outputs": [],
   "source": [
    "BACKTEST_CCY = 'USDRUB'\n",
    "BACKTEST_DAYS = 5\n",
    "YEARS = [2021, 2022]\n",
    "\n",
    "PATH_TEXTS = 'drive/MyDrive/data/telegram'\n",
    "PATH_OPT_PNL = 'drive/MyDrive/data/pnl/option'\n",
    "\n",
    "N_EPOCHS = 10"
   ]
  },
  {
   "cell_type": "code",
   "execution_count": 10,
   "metadata": {
    "colab": {
     "base_uri": "https://localhost:8080/"
    },
    "id": "0vXEoFoiq5x7",
    "outputId": "0c400b2f-192e-4067-b122-c036ad589507"
   },
   "outputs": [
    {
     "data": {
      "text/plain": [
       "['bitkogan.csv',\n",
       " 'War_Wealth_Wisdom.csv',\n",
       " 'themovchans.csv',\n",
       " 'vts.csv',\n",
       " 'sky_bond.csv',\n",
       " 'Alfa_Wealth.csv',\n",
       " 'rshb_invest.csv',\n",
       " 'headlines_QUANTS.csv',\n",
       " 'signal.csv',\n",
       " 'mmi.csv',\n",
       " 'cbonds.csv']"
      ]
     },
     "execution_count": 10,
     "metadata": {},
     "output_type": "execute_result"
    }
   ],
   "source": [
    "import os\n",
    "\n",
    "# Get all available data_sources\n",
    "sources = os.listdir(PATH_TEXTS)\n",
    "sources"
   ]
  },
  {
   "cell_type": "code",
   "execution_count": 11,
   "metadata": {
    "colab": {
     "base_uri": "https://localhost:8080/"
    },
    "id": "BOsoTh8Wq8NL",
    "outputId": "a2309785-41a5-4de7-bd64-0fcab14294fd"
   },
   "outputs": [
    {
     "name": "stdout",
     "output_type": "stream",
     "text": [
      "drive/MyDrive/data/pnl/option/Backtest_USDRUB_5_days_2021.txt\n"
     ]
    },
    {
     "name": "stderr",
     "output_type": "stream",
     "text": [
      "<ipython-input-11-fae68a3a6ca2>:6: FutureWarning: The frame.append method is deprecated and will be removed from pandas in a future version. Use pandas.concat instead.\n",
      "  pnl = pnl.append(pnl_year)\n"
     ]
    },
    {
     "name": "stdout",
     "output_type": "stream",
     "text": [
      "drive/MyDrive/data/pnl/option/Backtest_USDRUB_5_days_2022.txt\n"
     ]
    },
    {
     "name": "stderr",
     "output_type": "stream",
     "text": [
      "<ipython-input-11-fae68a3a6ca2>:6: FutureWarning: The frame.append method is deprecated and will be removed from pandas in a future version. Use pandas.concat instead.\n",
      "  pnl = pnl.append(pnl_year)\n"
     ]
    }
   ],
   "source": [
    "# Create target variable dataframe\n",
    "pnl = pd.DataFrame()\n",
    "for year in YEARS:\n",
    "    pnl_year = pd.read_csv(f'{PATH_OPT_PNL}/Backtest_{BACKTEST_CCY}_{BACKTEST_DAYS}_days_{year}.txt')\n",
    "    print(f'{PATH_OPT_PNL}/Backtest_{BACKTEST_CCY}_{BACKTEST_DAYS}_days_{year}.txt')\n",
    "    pnl = pnl.append(pnl_year)\n",
    "pnl['date_start'] = pd.to_datetime(pnl['date_start']).dt.strftime('%Y-%m-%d')\n",
    "pnl.dropna(subset=['pnl'], inplace=True)"
   ]
  },
  {
   "cell_type": "code",
   "execution_count": 12,
   "metadata": {
    "id": "l4RcsOutq_8N"
   },
   "outputs": [],
   "source": [
    "import datetime as dt\n",
    "from typing import List, Tuple, Union\n",
    "\n",
    "\n",
    "def _binary_search_by_date(array: List[Tuple[dt.datetime, float]], date_x: dt.datetime) -> Union[int, None]:\n",
    "    \"\"\"\n",
    "    Searches for the index of date_x in the array via binary search.\n",
    "\n",
    "        Parameters:\n",
    "            array (list) : A sorted array of (date, float_value) tuples\n",
    "            date_x (datetime.datetime) : Date to search for\n",
    "\n",
    "        Returns:\n",
    "            index_x (int): Index of the searched date in the array.\n",
    "    \"\"\"\n",
    "    left = 0\n",
    "    right = len(array) - 1\n",
    "\n",
    "    while left <= right:\n",
    "        mid = left + (right - left) // 2\n",
    "\n",
    "        if array[mid - 1][0] <= date_x <= array[mid][0]:\n",
    "            return mid\n",
    "        elif date_x > array[mid - 1][0] and date_x > array[mid][0]:\n",
    "            left = mid + 1\n",
    "        else:\n",
    "            right = mid - 1\n",
    "\n",
    "    return None\n",
    "\n",
    "\n",
    "def binary_search_time_series(time_series: List[Tuple[dt.datetime, float]], date_start: dt.datetime,\n",
    "                              date_end: dt.datetime) -> Union[List[Tuple[dt.datetime, float]], None]:\n",
    "    \"\"\"\n",
    "    Searches for the part of the time series that is contained inside [date_start; date_end] period via binary search.\n",
    "\n",
    "        Parameters:\n",
    "            time_series (list) : A sorted array of (date, float_value) tuples\n",
    "            date_start (datetime.datetime) : Starting date of the searched period\n",
    "            date_end (datetime.datetime) : Ending date of the searched period\n",
    "\n",
    "        Returns:\n",
    "            time_series_data (list): Part of the time series that is contained inside [date_start; date_end] period.\n",
    "    \"\"\"\n",
    "\n",
    "    if date_start <= date_end:\n",
    "        left_index = _binary_search_by_date(time_series, date_start)\n",
    "\n",
    "        if left_index is None:\n",
    "            return None\n",
    "\n",
    "        right_index = _binary_search_by_date(time_series[left_index:], date_end)\n",
    "\n",
    "        if right_index is None:\n",
    "            return None\n",
    "\n",
    "        right_index += left_index\n",
    "    else:\n",
    "        left_index = _binary_search_by_date(time_series, date_end)\n",
    "\n",
    "        if left_index is None:\n",
    "            return None\n",
    "\n",
    "        right_index = _binary_search_by_date(time_series[left_index:], date_start)\n",
    "\n",
    "        if right_index is None:\n",
    "            return None\n",
    "\n",
    "        right_index += left_index\n",
    "\n",
    "    return time_series[left_index:right_index]"
   ]
  },
  {
   "cell_type": "code",
   "execution_count": 13,
   "metadata": {
    "colab": {
     "base_uri": "https://localhost:8080/"
    },
    "id": "LKZOAy-6rBuV",
    "outputId": "fb5140e9-2d0d-43c1-dc8d-bbd5278ce411"
   },
   "outputs": [
    {
     "data": {
      "text/plain": [
       "[(datetime.datetime(2021, 1, 4, 0, 0), 291264.0979135564),\n",
       " (datetime.datetime(2021, 1, 5, 0, 0), -411993.8303199067),\n",
       " (datetime.datetime(2021, 1, 6, 0, 0), 521491.6867951669),\n",
       " (datetime.datetime(2021, 1, 8, 0, 0), 62842.63411628307),\n",
       " (datetime.datetime(2021, 1, 11, 0, 0), -537598.7062168794),\n",
       " (datetime.datetime(2021, 1, 12, 0, 0), -359059.05784320267),\n",
       " (datetime.datetime(2021, 1, 13, 0, 0), 181132.6897838658),\n",
       " (datetime.datetime(2021, 1, 14, 0, 0), 47895.30725670268),\n",
       " (datetime.datetime(2021, 1, 15, 0, 0), 30290.59373304957),\n",
       " (datetime.datetime(2021, 1, 18, 0, 0), 1157975.3869589714),\n",
       " (datetime.datetime(2021, 1, 19, 0, 0), 1258409.487166846),\n",
       " (datetime.datetime(2021, 1, 20, 0, 0), 1849608.792259631),\n",
       " (datetime.datetime(2021, 1, 21, 0, 0), 1996906.8565119945),\n",
       " (datetime.datetime(2021, 1, 22, 0, 0), 762996.8728368632),\n",
       " (datetime.datetime(2021, 1, 25, 0, 0), 560685.9672308444),\n",
       " (datetime.datetime(2021, 1, 26, 0, 0), -95365.18586283142),\n",
       " (datetime.datetime(2021, 1, 27, 0, 0), 425928.3216898445),\n",
       " (datetime.datetime(2021, 1, 28, 0, 0), 55602.65478476349),\n",
       " (datetime.datetime(2021, 1, 29, 0, 0), 495429.4811283656),\n",
       " (datetime.datetime(2021, 2, 1, 0, 0), -775146.1597000011),\n",
       " (datetime.datetime(2021, 2, 2, 0, 0), -778126.7414936638),\n",
       " (datetime.datetime(2021, 2, 3, 0, 0), -761870.8419090633),\n",
       " (datetime.datetime(2021, 2, 4, 0, 0), -813432.4825266631),\n",
       " (datetime.datetime(2021, 2, 5, 0, 0), -580820.8897698702),\n",
       " (datetime.datetime(2021, 2, 8, 0, 0), -407228.0802900971),\n",
       " (datetime.datetime(2021, 2, 9, 0, 0), -321250.5785892036),\n",
       " (datetime.datetime(2021, 2, 10, 0, 0), 57676.90772715151),\n",
       " (datetime.datetime(2021, 2, 11, 0, 0), -563816.978590518),\n",
       " (datetime.datetime(2021, 2, 12, 0, 0), -73631.45677198815),\n",
       " (datetime.datetime(2021, 2, 15, 0, 0), 705547.1684657352),\n",
       " (datetime.datetime(2021, 2, 16, 0, 0), 657378.0845259727),\n",
       " (datetime.datetime(2021, 2, 17, 0, 0), 297787.5205386232),\n",
       " (datetime.datetime(2021, 2, 18, 0, 0), 274170.68019192945),\n",
       " (datetime.datetime(2021, 2, 19, 0, 0), 412393.3534174335),\n",
       " (datetime.datetime(2021, 2, 22, 0, 0), 552141.8921319405),\n",
       " (datetime.datetime(2021, 2, 24, 0, 0), 606448.8714300572),\n",
       " (datetime.datetime(2021, 2, 25, 0, 0), 504581.5776275057),\n",
       " (datetime.datetime(2021, 2, 26, 0, 0), -403321.1041238439),\n",
       " (datetime.datetime(2021, 3, 1, 0, 0), 159355.4254413075),\n",
       " (datetime.datetime(2021, 3, 2, 0, 0), -168980.20409095197),\n",
       " (datetime.datetime(2021, 3, 3, 0, 0), 356673.3422066606),\n",
       " (datetime.datetime(2021, 3, 4, 0, 0), 255657.824008908),\n",
       " (datetime.datetime(2021, 3, 5, 0, 0), -185437.48743016343),\n",
       " (datetime.datetime(2021, 3, 9, 0, 0), -485411.8953781159),\n",
       " (datetime.datetime(2021, 3, 10, 0, 0), -314600.72475927154),\n",
       " (datetime.datetime(2021, 3, 11, 0, 0), -448431.1599667416),\n",
       " (datetime.datetime(2021, 3, 12, 0, 0), -355152.5920058204),\n",
       " (datetime.datetime(2021, 3, 15, 0, 0), 711694.5718322254),\n",
       " (datetime.datetime(2021, 3, 16, 0, 0), 1406265.7675177),\n",
       " (datetime.datetime(2021, 3, 17, 0, 0), 1132770.7043410975),\n",
       " (datetime.datetime(2021, 3, 18, 0, 0), 907406.6678607753),\n",
       " (datetime.datetime(2021, 3, 19, 0, 0), 1933889.3079132051),\n",
       " (datetime.datetime(2021, 3, 22, 0, 0), 1592135.9177709755),\n",
       " (datetime.datetime(2021, 3, 23, 0, 0), 763459.7546006279),\n",
       " (datetime.datetime(2021, 3, 24, 0, 0), -301620.5354458293),\n",
       " (datetime.datetime(2021, 3, 25, 0, 0), -376315.3581854672),\n",
       " (datetime.datetime(2021, 3, 26, 0, 0), -85327.47507816556),\n",
       " (datetime.datetime(2021, 3, 29, 0, 0), 620100.2504752444),\n",
       " (datetime.datetime(2021, 3, 30, 0, 0), 794135.3441179184),\n",
       " (datetime.datetime(2021, 3, 31, 0, 0), 510949.9057198576),\n",
       " (datetime.datetime(2021, 4, 1, 0, 0), 753465.52957611),\n",
       " (datetime.datetime(2021, 4, 2, 0, 0), 1287951.5132071967),\n",
       " (datetime.datetime(2021, 4, 5, 0, 0), 683983.6510994706),\n",
       " (datetime.datetime(2021, 4, 6, 0, 0), 924255.2868681191),\n",
       " (datetime.datetime(2021, 4, 7, 0, 0), 482198.31485359336),\n",
       " (datetime.datetime(2021, 4, 8, 0, 0), 285529.36319685297),\n",
       " (datetime.datetime(2021, 4, 9, 0, 0), -764495.6581617455),\n",
       " (datetime.datetime(2021, 4, 12, 0, 0), -1034730.480292162),\n",
       " (datetime.datetime(2021, 4, 13, 0, 0), -879400.5416113362),\n",
       " (datetime.datetime(2021, 4, 14, 0, 0), -389538.9857133834),\n",
       " (datetime.datetime(2021, 4, 15, 0, 0), 193971.11206468008),\n",
       " (datetime.datetime(2021, 4, 16, 0, 0), 236412.55852580536),\n",
       " (datetime.datetime(2021, 4, 19, 0, 0), -1150620.279614766),\n",
       " (datetime.datetime(2021, 4, 20, 0, 0), -1022068.0748987804),\n",
       " (datetime.datetime(2021, 4, 21, 0, 0), -1084437.291886018),\n",
       " (datetime.datetime(2021, 4, 22, 0, 0), -881767.745920037),\n",
       " (datetime.datetime(2021, 4, 23, 0, 0), -245289.44258577147),\n",
       " (datetime.datetime(2021, 4, 26, 0, 0), 126348.15274161132),\n",
       " (datetime.datetime(2021, 4, 27, 0, 0), 460828.0273600646),\n",
       " (datetime.datetime(2021, 4, 28, 0, 0), 451701.1289146806),\n",
       " (datetime.datetime(2021, 4, 29, 0, 0), 971765.8558354),\n",
       " (datetime.datetime(2021, 4, 30, 0, 0), 354293.33652343845),\n",
       " (datetime.datetime(2021, 5, 4, 0, 0), -788780.3685571906),\n",
       " (datetime.datetime(2021, 5, 5, 0, 0), -572981.5252329627),\n",
       " (datetime.datetime(2021, 5, 6, 0, 0), -180021.44033452382),\n",
       " (datetime.datetime(2021, 5, 7, 0, 0), -35545.62674245512),\n",
       " (datetime.datetime(2021, 5, 10, 0, 0), 281682.94859013567),\n",
       " (datetime.datetime(2021, 5, 11, 0, 0), -129796.5411445554),\n",
       " (datetime.datetime(2021, 5, 12, 0, 0), -30986.04382945793),\n",
       " (datetime.datetime(2021, 5, 13, 0, 0), -205277.6613849922),\n",
       " (datetime.datetime(2021, 5, 14, 0, 0), -145250.8928989219),\n",
       " (datetime.datetime(2021, 5, 17, 0, 0), -171456.04096116207),\n",
       " (datetime.datetime(2021, 5, 18, 0, 0), 50726.40785028759),\n",
       " (datetime.datetime(2021, 5, 19, 0, 0), -24842.49598658871),\n",
       " (datetime.datetime(2021, 5, 20, 0, 0), -108978.04154284492),\n",
       " (datetime.datetime(2021, 5, 21, 0, 0), 86537.79286235846),\n",
       " (datetime.datetime(2021, 5, 24, 0, 0), -71387.19322919715),\n",
       " (datetime.datetime(2021, 5, 25, 0, 0), -80776.81717901402),\n",
       " (datetime.datetime(2021, 5, 26, 0, 0), -11398.295039497723),\n",
       " (datetime.datetime(2021, 5, 27, 0, 0), -64201.382063587815),\n",
       " (datetime.datetime(2021, 5, 28, 0, 0), 278239.06631228933),\n",
       " (datetime.datetime(2021, 5, 31, 0, 0), -219602.18005348585),\n",
       " (datetime.datetime(2021, 6, 1, 0, 0), -341908.9622022624),\n",
       " (datetime.datetime(2021, 6, 2, 0, 0), -324377.6874899862),\n",
       " (datetime.datetime(2021, 6, 3, 0, 0), -192331.65147286828),\n",
       " (datetime.datetime(2021, 6, 4, 0, 0), -527668.1501071759),\n",
       " (datetime.datetime(2021, 6, 7, 0, 0), -447216.2435308071),\n",
       " (datetime.datetime(2021, 6, 8, 0, 0), -383310.4940389512),\n",
       " (datetime.datetime(2021, 6, 9, 0, 0), -9587.116092095048),\n",
       " (datetime.datetime(2021, 6, 10, 0, 0), 9734.572188843593),\n",
       " (datetime.datetime(2021, 6, 11, 0, 0), 303507.87511423853),\n",
       " (datetime.datetime(2021, 6, 14, 0, 0), 683795.7223187237),\n",
       " (datetime.datetime(2021, 6, 15, 0, 0), 1072171.711381505),\n",
       " (datetime.datetime(2021, 6, 16, 0, 0), 419210.741280693),\n",
       " (datetime.datetime(2021, 6, 17, 0, 0), 593105.5472807599),\n",
       " (datetime.datetime(2021, 6, 18, 0, 0), 661944.0660654657),\n",
       " (datetime.datetime(2021, 6, 21, 0, 0), -482766.990311318),\n",
       " (datetime.datetime(2021, 6, 22, 0, 0), -516902.0065090452),\n",
       " (datetime.datetime(2021, 6, 23, 0, 0), -317342.7757859675),\n",
       " (datetime.datetime(2021, 6, 24, 0, 0), -210586.74011893748),\n",
       " (datetime.datetime(2021, 6, 25, 0, 0), 352779.3549658568),\n",
       " (datetime.datetime(2021, 6, 28, 0, 0), 1175311.6554931358),\n",
       " (datetime.datetime(2021, 6, 29, 0, 0), 787738.6671070266),\n",
       " (datetime.datetime(2021, 6, 30, 0, 0), 299363.81682341336),\n",
       " (datetime.datetime(2021, 7, 1, 0, 0), 443426.7084045837),\n",
       " (datetime.datetime(2021, 7, 2, 0, 0), 1107772.3706906084),\n",
       " (datetime.datetime(2021, 7, 5, 0, 0), 586117.5606933356),\n",
       " (datetime.datetime(2021, 7, 6, 0, 0), 499126.5573963397),\n",
       " (datetime.datetime(2021, 7, 7, 0, 0), -38858.97448679179),\n",
       " (datetime.datetime(2021, 7, 8, 0, 0), -186977.5860369599),\n",
       " (datetime.datetime(2021, 7, 9, 0, 0), 57841.40371951816),\n",
       " (datetime.datetime(2021, 7, 12, 0, 0), -35713.94247832536),\n",
       " (datetime.datetime(2021, 7, 13, 0, 0), 27226.068706991584),\n",
       " (datetime.datetime(2021, 7, 14, 0, 0), 30718.793780545224),\n",
       " (datetime.datetime(2021, 7, 15, 0, 0), 912986.0197734524),\n",
       " (datetime.datetime(2021, 7, 16, 0, 0), -38272.541448485805),\n",
       " (datetime.datetime(2021, 7, 19, 0, 0), -274352.0487147022),\n",
       " (datetime.datetime(2021, 7, 20, 0, 0), -481902.8925792562),\n",
       " (datetime.datetime(2021, 7, 21, 0, 0), -335781.30084603024),\n",
       " (datetime.datetime(2021, 7, 22, 0, 0), 214560.7660757193),\n",
       " (datetime.datetime(2021, 7, 23, 0, 0), 25574.152470587705),\n",
       " (datetime.datetime(2021, 7, 26, 0, 0), -109980.52430409832),\n",
       " (datetime.datetime(2021, 7, 27, 0, 0), -210588.22573491564),\n",
       " (datetime.datetime(2021, 7, 28, 0, 0), -258972.1429092956),\n",
       " (datetime.datetime(2021, 7, 29, 0, 0), -118398.98329205568),\n",
       " (datetime.datetime(2021, 7, 30, 0, 0), -149137.86257738338),\n",
       " (datetime.datetime(2021, 8, 2, 0, 0), 353436.56891588506),\n",
       " (datetime.datetime(2021, 8, 3, 0, 0), 623960.6351112999),\n",
       " (datetime.datetime(2021, 8, 4, 0, 0), 472313.5626478538),\n",
       " (datetime.datetime(2021, 8, 5, 0, 0), 453241.15321543487),\n",
       " (datetime.datetime(2021, 8, 6, 0, 0), 696862.2366878077),\n",
       " (datetime.datetime(2021, 8, 9, 0, 0), -391817.0426936617),\n",
       " (datetime.datetime(2021, 8, 10, 0, 0), -502669.0946090649),\n",
       " (datetime.datetime(2021, 8, 11, 0, 0), -519860.46841981215),\n",
       " (datetime.datetime(2021, 8, 12, 0, 0), -105204.3644615682),\n",
       " (datetime.datetime(2021, 8, 13, 0, 0), 166967.54231529238),\n",
       " (datetime.datetime(2021, 8, 16, 0, 0), 979113.9569629168),\n",
       " (datetime.datetime(2021, 8, 17, 0, 0), 761028.0012353999),\n",
       " (datetime.datetime(2021, 8, 18, 0, 0), 690476.4988317045),\n",
       " (datetime.datetime(2021, 8, 19, 0, 0), 73963.87121283976),\n",
       " (datetime.datetime(2021, 8, 20, 0, 0), -292013.83785896463),\n",
       " (datetime.datetime(2021, 8, 23, 0, 0), -437462.7189520436),\n",
       " (datetime.datetime(2021, 8, 24, 0, 0), -402080.7789864837),\n",
       " (datetime.datetime(2021, 8, 25, 0, 0), -197858.8599289909),\n",
       " (datetime.datetime(2021, 8, 26, 0, 0), -369783.4378594304),\n",
       " (datetime.datetime(2021, 8, 27, 0, 0), -493676.92832507927),\n",
       " (datetime.datetime(2021, 8, 30, 0, 0), -491240.95638062747),\n",
       " (datetime.datetime(2021, 8, 31, 0, 0), -367631.83058027417),\n",
       " (datetime.datetime(2021, 9, 1, 0, 0), -8684.900901118319),\n",
       " (datetime.datetime(2021, 9, 2, 0, 0), 164332.5703222679),\n",
       " (datetime.datetime(2021, 9, 3, 0, 0), 362401.838852124),\n",
       " (datetime.datetime(2021, 9, 6, 0, 0), 340904.88943977666),\n",
       " (datetime.datetime(2021, 9, 7, 0, 0), 220657.7215024609),\n",
       " (datetime.datetime(2021, 9, 8, 0, 0), -15859.481105882329),\n",
       " (datetime.datetime(2021, 9, 9, 0, 0), -241389.1136556617),\n",
       " (datetime.datetime(2021, 9, 10, 0, 0), 363090.11981415504),\n",
       " (datetime.datetime(2021, 9, 13, 0, 0), 56972.380806241),\n",
       " (datetime.datetime(2021, 9, 14, 0, 0), 385410.5220416784),\n",
       " (datetime.datetime(2021, 9, 15, 0, 0), 93470.730227519),\n",
       " (datetime.datetime(2021, 9, 16, 0, 0), 1259180.0333309388),\n",
       " (datetime.datetime(2021, 9, 17, 0, 0), 518530.1721866562),\n",
       " (datetime.datetime(2021, 9, 20, 0, 0), -168099.47348252631),\n",
       " (datetime.datetime(2021, 9, 21, 0, 0), -242785.5089375449),\n",
       " (datetime.datetime(2021, 9, 22, 0, 0), -80295.01284760408),\n",
       " (datetime.datetime(2021, 9, 23, 0, 0), -58849.25585923863),\n",
       " (datetime.datetime(2021, 9, 24, 0, 0), 54491.21093480953),\n",
       " (datetime.datetime(2021, 9, 27, 0, 0), 104324.9279716814),\n",
       " (datetime.datetime(2021, 9, 28, 0, 0), 498299.3765474835),\n",
       " (datetime.datetime(2021, 9, 29, 0, 0), 215133.7360157097),\n",
       " (datetime.datetime(2021, 9, 30, 0, 0), 84077.15774474916),\n",
       " (datetime.datetime(2021, 10, 1, 0, 0), -200077.3847667343),\n",
       " (datetime.datetime(2021, 10, 4, 0, 0), 175212.1207764074),\n",
       " (datetime.datetime(2021, 10, 5, 0, 0), -200794.03655120125),\n",
       " (datetime.datetime(2021, 10, 6, 0, 0), -176636.1437947384),\n",
       " (datetime.datetime(2021, 10, 7, 0, 0), -284653.72210853),\n",
       " (datetime.datetime(2021, 10, 8, 0, 0), 100955.39769184904),\n",
       " (datetime.datetime(2021, 10, 11, 0, 0), -627926.703306606),\n",
       " (datetime.datetime(2021, 10, 12, 0, 0), -593828.9822075466),\n",
       " (datetime.datetime(2021, 10, 13, 0, 0), -557166.8910262814),\n",
       " (datetime.datetime(2021, 10, 14, 0, 0), -245960.75881276507),\n",
       " (datetime.datetime(2021, 10, 15, 0, 0), -114398.1789680284),\n",
       " (datetime.datetime(2021, 10, 18, 0, 0), -498873.7143829413),\n",
       " (datetime.datetime(2021, 10, 19, 0, 0), -504320.6051069071),\n",
       " (datetime.datetime(2021, 10, 20, 0, 0), -326857.0790696764),\n",
       " (datetime.datetime(2021, 10, 21, 0, 0), -730848.8318122859),\n",
       " (datetime.datetime(2021, 10, 22, 0, 0), -816482.1025341403),\n",
       " (datetime.datetime(2021, 10, 25, 0, 0), 732924.2644730735),\n",
       " (datetime.datetime(2021, 10, 26, 0, 0), 2065388.6478974817),\n",
       " (datetime.datetime(2021, 10, 27, 0, 0), 1334321.0416125555),\n",
       " (datetime.datetime(2021, 10, 28, 0, 0), 964539.1913096),\n",
       " (datetime.datetime(2021, 10, 29, 0, 0), 2115708.5393642816),\n",
       " (datetime.datetime(2021, 11, 1, 0, 0), -62860.2120350201),\n",
       " (datetime.datetime(2021, 11, 2, 0, 0), -43981.5660569622),\n",
       " (datetime.datetime(2021, 11, 3, 0, 0), 222581.5701751228),\n",
       " (datetime.datetime(2021, 11, 5, 0, 0), -362206.0595671626),\n",
       " (datetime.datetime(2021, 11, 8, 0, 0), 2152988.967205693),\n",
       " (datetime.datetime(2021, 11, 9, 0, 0), 1543431.9245940484),\n",
       " (datetime.datetime(2021, 11, 10, 0, 0), 2035436.939902542),\n",
       " (datetime.datetime(2021, 11, 11, 0, 0), 1088124.9939401494),\n",
       " (datetime.datetime(2021, 11, 12, 0, 0), 1657353.408585346),\n",
       " (datetime.datetime(2021, 11, 15, 0, 0), 984722.2717663124),\n",
       " (datetime.datetime(2021, 11, 16, 0, 0), 928113.4329894152),\n",
       " (datetime.datetime(2021, 11, 17, 0, 0), 419120.5273579957),\n",
       " (datetime.datetime(2021, 11, 18, 0, 0), 2193619.226583573),\n",
       " (datetime.datetime(2021, 11, 19, 0, 0), 1469062.7726674092),\n",
       " (datetime.datetime(2021, 11, 22, 0, 0), 1887925.807046984),\n",
       " (datetime.datetime(2021, 11, 23, 0, 0), 1142757.5043365497),\n",
       " (datetime.datetime(2021, 11, 24, 0, 0), 956879.090669265),\n",
       " (datetime.datetime(2021, 11, 25, 0, 0), -6789.2251506149405),\n",
       " (datetime.datetime(2021, 11, 26, 0, 0), -496452.2274684174),\n",
       " (datetime.datetime(2021, 11, 29, 0, 0), -395689.4871369969),\n",
       " (datetime.datetime(2021, 11, 30, 0, 0), -285865.45004953275),\n",
       " (datetime.datetime(2021, 12, 1, 0, 0), 71097.48404796314),\n",
       " (datetime.datetime(2021, 12, 2, 0, 0), 108682.498509012),\n",
       " (datetime.datetime(2021, 12, 3, 0, 0), 230856.70278644003),\n",
       " (datetime.datetime(2021, 12, 6, 0, 0), 440984.12118539255),\n",
       " (datetime.datetime(2021, 12, 7, 0, 0), -519790.856986321),\n",
       " (datetime.datetime(2021, 12, 8, 0, 0), -117132.66722345471),\n",
       " (datetime.datetime(2021, 12, 9, 0, 0), 233403.83783701915),\n",
       " (datetime.datetime(2021, 12, 10, 0, 0), 303211.2338846584),\n",
       " (datetime.datetime(2021, 12, 13, 0, 0), 480511.7410890428),\n",
       " (datetime.datetime(2021, 12, 14, 0, 0), 452026.4660722117),\n",
       " (datetime.datetime(2021, 12, 15, 0, 0), 56231.16944185929),\n",
       " (datetime.datetime(2021, 12, 16, 0, 0), 543686.5436233812),\n",
       " (datetime.datetime(2021, 12, 17, 0, 0), 259975.74106198305),\n",
       " (datetime.datetime(2021, 12, 20, 0, 0), -407527.5545610997),\n",
       " (datetime.datetime(2021, 12, 21, 0, 0), -176881.41707655715),\n",
       " (datetime.datetime(2021, 12, 22, 0, 0), -206943.41441801813),\n",
       " (datetime.datetime(2021, 12, 23, 0, 0), 23073.596468208078),\n",
       " (datetime.datetime(2021, 12, 24, 0, 0), 283960.4385314084),\n",
       " (datetime.datetime(2022, 3, 2, 0, 0), 4562674.237773467),\n",
       " (datetime.datetime(2022, 3, 3, 0, 0), -4663724.751894248),\n",
       " (datetime.datetime(2022, 3, 4, 0, 0), -484527.6228265166),\n",
       " (datetime.datetime(2022, 3, 9, 0, 0), 1268498.4635499555),\n",
       " (datetime.datetime(2022, 3, 10, 0, 0), -2874466.184608032),\n",
       " (datetime.datetime(2022, 3, 11, 0, 0), -3885262.149765398),\n",
       " (datetime.datetime(2022, 3, 14, 0, 0), -2636291.818807214),\n",
       " (datetime.datetime(2022, 3, 15, 0, 0), -2623144.4089718093),\n",
       " (datetime.datetime(2022, 3, 16, 0, 0), -2210490.507369832),\n",
       " (datetime.datetime(2022, 3, 17, 0, 0), -537390.4529353956),\n",
       " (datetime.datetime(2022, 3, 18, 0, 0), 374265.0241540712),\n",
       " (datetime.datetime(2022, 3, 21, 0, 0), -4957329.970315649),\n",
       " (datetime.datetime(2022, 3, 22, 0, 0), -4363773.149794315),\n",
       " (datetime.datetime(2022, 3, 23, 0, 0), -4319710.186700105),\n",
       " (datetime.datetime(2022, 3, 24, 0, 0), -3332591.533361901),\n",
       " (datetime.datetime(2022, 3, 25, 0, 0), -5950118.337240176),\n",
       " (datetime.datetime(2022, 3, 28, 0, 0), -5907224.854073336),\n",
       " (datetime.datetime(2022, 3, 29, 0, 0), -2616205.879211701),\n",
       " (datetime.datetime(2022, 3, 30, 0, 0), -686164.1275948731),\n",
       " (datetime.datetime(2022, 3, 31, 0, 0), -181541.9040005676),\n",
       " (datetime.datetime(2022, 4, 1, 0, 0), 121422.63943321278),\n",
       " (datetime.datetime(2022, 4, 4, 0, 0), -4414211.960653895),\n",
       " (datetime.datetime(2022, 4, 5, 0, 0), -4149720.688410556),\n",
       " (datetime.datetime(2022, 4, 6, 0, 0), -4025960.6096229968),\n",
       " (datetime.datetime(2022, 4, 7, 0, 0), 3902882.56640448),\n",
       " (datetime.datetime(2022, 4, 8, 0, 0), 1965946.148053871),\n",
       " (datetime.datetime(2022, 4, 11, 0, 0), 225679.2927480172),\n",
       " (datetime.datetime(2022, 4, 12, 0, 0), -198127.33887925145),\n",
       " (datetime.datetime(2022, 4, 13, 0, 0), -127406.8906373362),\n",
       " (datetime.datetime(2022, 4, 14, 0, 0), -983994.9525568947),\n",
       " (datetime.datetime(2022, 4, 15, 0, 0), -612277.9909024419),\n",
       " (datetime.datetime(2022, 4, 18, 0, 0), -1907267.4616555653),\n",
       " (datetime.datetime(2022, 4, 19, 0, 0), -2084930.7556049824),\n",
       " (datetime.datetime(2022, 4, 20, 0, 0), -1477511.267324595),\n",
       " (datetime.datetime(2022, 4, 21, 0, 0), -1635644.1294194858),\n",
       " (datetime.datetime(2022, 4, 22, 0, 0), -741041.3178204317),\n",
       " (datetime.datetime(2022, 4, 25, 0, 0), -1291482.9324691256),\n",
       " (datetime.datetime(2022, 4, 26, 0, 0), -1182154.6494162383),\n",
       " (datetime.datetime(2022, 4, 27, 0, 0), -1185115.5582127252),\n",
       " (datetime.datetime(2022, 4, 28, 0, 0), -815977.2478137121),\n",
       " (datetime.datetime(2022, 4, 29, 0, 0), -404254.421174638),\n",
       " (datetime.datetime(2022, 5, 4, 0, 0), -798798.2567473932),\n",
       " (datetime.datetime(2022, 5, 5, 0, 0), 1768212.923455407),\n",
       " (datetime.datetime(2022, 5, 6, 0, 0), 1467039.2396742776),\n",
       " (datetime.datetime(2022, 5, 11, 0, 0), -3045583.578356938),\n",
       " (datetime.datetime(2022, 5, 12, 0, 0), -1039369.6185715843),\n",
       " (datetime.datetime(2022, 5, 13, 0, 0), 138439.0350410634),\n",
       " (datetime.datetime(2022, 5, 16, 0, 0), -1644036.1472202167),\n",
       " (datetime.datetime(2022, 5, 17, 0, 0), -1654852.2461260944),\n",
       " (datetime.datetime(2022, 5, 18, 0, 0), -1660138.522687986),\n",
       " (datetime.datetime(2022, 5, 19, 0, 0), -2558943.051777791),\n",
       " (datetime.datetime(2022, 5, 20, 0, 0), -1610657.7112839944),\n",
       " (datetime.datetime(2022, 5, 23, 0, 0), 6651621.571237564),\n",
       " (datetime.datetime(2022, 5, 24, 0, 0), 7743492.496485292),\n",
       " (datetime.datetime(2022, 5, 25, 0, 0), 8616166.40680305),\n",
       " (datetime.datetime(2022, 5, 26, 0, 0), 4049343.158045821),\n",
       " (datetime.datetime(2022, 5, 27, 0, 0), -145777.4305557683),\n",
       " (datetime.datetime(2022, 6, 6, 0, 0), -1347661.950036991),\n",
       " (datetime.datetime(2022, 6, 7, 0, 0), -2151773.706423857),\n",
       " (datetime.datetime(2022, 6, 8, 0, 0), -1742294.7704736849),\n",
       " (datetime.datetime(2022, 6, 9, 0, 0), -1262146.6919467),\n",
       " (datetime.datetime(2022, 6, 10, 0, 0), -1475123.8308042136),\n",
       " (datetime.datetime(2022, 6, 14, 0, 0), -428843.97967810096),\n",
       " (datetime.datetime(2022, 6, 15, 0, 0), -119561.5772860084),\n",
       " (datetime.datetime(2022, 6, 16, 0, 0), -605318.5501690994),\n",
       " (datetime.datetime(2022, 6, 17, 0, 0), -1334536.208362055),\n",
       " (datetime.datetime(2022, 6, 20, 0, 0), -1717859.901834079),\n",
       " (datetime.datetime(2022, 6, 21, 0, 0), -1197482.850307937),\n",
       " (datetime.datetime(2022, 6, 22, 0, 0), -184106.3858504989),\n",
       " (datetime.datetime(2022, 6, 23, 0, 0), -72862.50680517421),\n",
       " (datetime.datetime(2022, 6, 24, 0, 0), -1030103.7210946956),\n",
       " (datetime.datetime(2022, 6, 27, 0, 0), -295945.30592016905),\n",
       " (datetime.datetime(2022, 6, 28, 0, 0), 17700.302111088135),\n",
       " (datetime.datetime(2022, 6, 29, 0, 0), 1123623.2041244158),\n",
       " (datetime.datetime(2022, 6, 30, 0, 0), 1435872.0931886183),\n",
       " (datetime.datetime(2022, 7, 1, 0, 0), 8749134.941709321),\n",
       " (datetime.datetime(2022, 7, 4, 0, 0), 4428035.669657361),\n",
       " (datetime.datetime(2022, 7, 5, 0, 0), 3950496.458914742),\n",
       " (datetime.datetime(2022, 7, 6, 0, 0), -1215886.4989644117),\n",
       " (datetime.datetime(2022, 7, 7, 0, 0), -2445705.800627471),\n",
       " (datetime.datetime(2022, 7, 8, 0, 0), -1739913.9494374),\n",
       " (datetime.datetime(2022, 7, 11, 0, 0), -2541885.666530649),\n",
       " (datetime.datetime(2022, 7, 12, 0, 0), -1110236.7694816296),\n",
       " (datetime.datetime(2022, 7, 13, 0, 0), -968450.645885928),\n",
       " (datetime.datetime(2022, 7, 14, 0, 0), -992699.7908796936),\n",
       " (datetime.datetime(2022, 7, 15, 0, 0), -1460889.6670071103),\n",
       " (datetime.datetime(2022, 7, 18, 0, 0), -713123.5573120603),\n",
       " (datetime.datetime(2022, 7, 19, 0, 0), -334250.65759681613),\n",
       " (datetime.datetime(2022, 7, 20, 0, 0), 434892.8138210437),\n",
       " (datetime.datetime(2022, 7, 21, 0, 0), 2083452.35223717),\n",
       " (datetime.datetime(2022, 7, 22, 0, 0), 3066390.888566892),\n",
       " (datetime.datetime(2022, 7, 25, 0, 0), 3403415.2582959672),\n",
       " (datetime.datetime(2022, 7, 26, 0, 0), 2471304.721386213),\n",
       " (datetime.datetime(2022, 7, 27, 0, 0), 486957.9477213745),\n",
       " (datetime.datetime(2022, 7, 28, 0, 0), -269014.90199030685),\n",
       " (datetime.datetime(2022, 7, 29, 0, 0), -929408.7821737676),\n",
       " (datetime.datetime(2022, 8, 1, 0, 0), -1003444.0267686336),\n",
       " (datetime.datetime(2022, 8, 2, 0, 0), 54047.361599671545),\n",
       " (datetime.datetime(2022, 8, 3, 0, 0), -1081.337685202339),\n",
       " (datetime.datetime(2022, 8, 4, 0, 0), -162878.32079610266),\n",
       " (datetime.datetime(2022, 8, 5, 0, 0), -211769.94985006592),\n",
       " (datetime.datetime(2022, 8, 8, 0, 0), -186450.74759988007),\n",
       " (datetime.datetime(2022, 8, 9, 0, 0), -11757.87171173274),\n",
       " (datetime.datetime(2022, 8, 10, 0, 0), 82610.13578305615),\n",
       " (datetime.datetime(2022, 8, 11, 0, 0), 408460.23597160366),\n",
       " (datetime.datetime(2022, 8, 12, 0, 0), 47913.08078475397),\n",
       " (datetime.datetime(2022, 8, 15, 0, 0), -1421924.564147904),\n",
       " (datetime.datetime(2022, 8, 16, 0, 0), -1251486.2536703015),\n",
       " (datetime.datetime(2022, 8, 17, 0, 0), -1013472.976794036),\n",
       " (datetime.datetime(2022, 8, 18, 0, 0), -583749.7785765075),\n",
       " (datetime.datetime(2022, 8, 19, 0, 0), 199971.6143046644),\n",
       " (datetime.datetime(2022, 8, 22, 0, 0), 524075.4750295505),\n",
       " (datetime.datetime(2022, 8, 23, 0, 0), 339406.9562813763),\n",
       " (datetime.datetime(2022, 8, 24, 0, 0), 153341.4615613638),\n",
       " (datetime.datetime(2022, 8, 25, 0, 0), 65775.52657259829),\n",
       " (datetime.datetime(2022, 8, 26, 0, 0), -129546.69224317424),\n",
       " (datetime.datetime(2022, 8, 29, 0, 0), -35362.48824514143),\n",
       " (datetime.datetime(2022, 8, 30, 0, 0), 71434.94864527398),\n",
       " (datetime.datetime(2022, 8, 31, 0, 0), 352527.73567001807),\n",
       " (datetime.datetime(2022, 9, 1, 0, 0), 295046.0851175246),\n",
       " (datetime.datetime(2022, 9, 2, 0, 0), 414138.3253177734),\n",
       " (datetime.datetime(2022, 9, 5, 0, 0), -205160.5695992343),\n",
       " (datetime.datetime(2022, 9, 6, 0, 0), -233104.34192092344),\n",
       " (datetime.datetime(2022, 9, 7, 0, 0), -323707.61790343904),\n",
       " (datetime.datetime(2022, 9, 8, 0, 0), -393637.1157971468),\n",
       " (datetime.datetime(2022, 9, 9, 0, 0), -526306.0977915276),\n",
       " (datetime.datetime(2022, 9, 12, 0, 0), -334945.791586585),\n",
       " (datetime.datetime(2022, 9, 13, 0, 0), -125106.89755944043),\n",
       " (datetime.datetime(2022, 9, 14, 0, 0), 87279.82759914586),\n",
       " (datetime.datetime(2022, 9, 15, 0, 0), 129077.36039123782),\n",
       " (datetime.datetime(2022, 9, 16, 0, 0), 452448.63423582114),\n",
       " (datetime.datetime(2022, 9, 19, 0, 0), -2886566.0822943826),\n",
       " (datetime.datetime(2022, 9, 20, 0, 0), -2576612.13371279),\n",
       " (datetime.datetime(2022, 9, 21, 0, 0), -3227982.4610571885),\n",
       " (datetime.datetime(2022, 9, 22, 0, 0), -1543328.7054542329),\n",
       " (datetime.datetime(2022, 9, 23, 0, 0), -337308.47815512255),\n",
       " (datetime.datetime(2022, 9, 26, 0, 0), -251080.97955005852),\n",
       " (datetime.datetime(2022, 9, 27, 0, 0), -406744.1129745471),\n",
       " (datetime.datetime(2022, 9, 28, 0, 0), -388672.4772870136),\n",
       " (datetime.datetime(2022, 9, 29, 0, 0), 804031.9949040603),\n",
       " (datetime.datetime(2022, 9, 30, 0, 0), 1544311.3801607848),\n",
       " (datetime.datetime(2022, 10, 3, 0, 0), 1868107.07544402),\n",
       " (datetime.datetime(2022, 10, 4, 0, 0), 2480968.7842266434)]"
      ]
     },
     "execution_count": 13,
     "metadata": {},
     "output_type": "execute_result"
    }
   ],
   "source": [
    "pnl_sign_ts = [(pd.to_datetime(row['date_start']).to_pydatetime(), row['pnl']) for  _, row in pnl.iterrows()]\n",
    "pnl_sign_ts"
   ]
  },
  {
   "cell_type": "code",
   "execution_count": 14,
   "metadata": {
    "id": "ce2j9TsUrDlC"
   },
   "outputs": [],
   "source": [
    "initial_date = pnl_sign_ts[0][0]\n",
    "\n",
    "def get_pnl_sign(row):\n",
    "    date_x = pd.to_datetime(row['date']).to_pydatetime()\n",
    "    pnl_sign_key = _binary_search_by_date(pnl_sign_ts, date_x)\n",
    "\n",
    "    if pnl_sign_key is not None and date_x >= initial_date:\n",
    "        return pnl_sign_ts[_binary_search_by_date(pnl_sign_ts, date_x)][1]"
   ]
  },
  {
   "cell_type": "code",
   "execution_count": 15,
   "metadata": {
    "colab": {
     "base_uri": "https://localhost:8080/",
     "height": 598
    },
    "id": "21UQiXyYrFsd",
    "outputId": "8b75cd9a-d4da-495d-8a25-1dccd0da5890"
   },
   "outputs": [
    {
     "name": "stderr",
     "output_type": "stream",
     "text": [
      "<ipython-input-15-fe866cb0e0b2>:7: FutureWarning: The frame.append method is deprecated and will be removed from pandas in a future version. Use pandas.concat instead.\n",
      "  df = df.append(source_data)\n",
      "<ipython-input-15-fe866cb0e0b2>:7: FutureWarning: The frame.append method is deprecated and will be removed from pandas in a future version. Use pandas.concat instead.\n",
      "  df = df.append(source_data)\n",
      "<ipython-input-15-fe866cb0e0b2>:7: FutureWarning: The frame.append method is deprecated and will be removed from pandas in a future version. Use pandas.concat instead.\n",
      "  df = df.append(source_data)\n",
      "<ipython-input-15-fe866cb0e0b2>:7: FutureWarning: The frame.append method is deprecated and will be removed from pandas in a future version. Use pandas.concat instead.\n",
      "  df = df.append(source_data)\n",
      "<ipython-input-15-fe866cb0e0b2>:7: FutureWarning: The frame.append method is deprecated and will be removed from pandas in a future version. Use pandas.concat instead.\n",
      "  df = df.append(source_data)\n",
      "<ipython-input-15-fe866cb0e0b2>:7: FutureWarning: The frame.append method is deprecated and will be removed from pandas in a future version. Use pandas.concat instead.\n",
      "  df = df.append(source_data)\n",
      "<ipython-input-15-fe866cb0e0b2>:7: FutureWarning: The frame.append method is deprecated and will be removed from pandas in a future version. Use pandas.concat instead.\n",
      "  df = df.append(source_data)\n",
      "<ipython-input-15-fe866cb0e0b2>:7: FutureWarning: The frame.append method is deprecated and will be removed from pandas in a future version. Use pandas.concat instead.\n",
      "  df = df.append(source_data)\n",
      "<ipython-input-15-fe866cb0e0b2>:7: FutureWarning: The frame.append method is deprecated and will be removed from pandas in a future version. Use pandas.concat instead.\n",
      "  df = df.append(source_data)\n",
      "<ipython-input-15-fe866cb0e0b2>:7: FutureWarning: The frame.append method is deprecated and will be removed from pandas in a future version. Use pandas.concat instead.\n",
      "  df = df.append(source_data)\n",
      "<ipython-input-15-fe866cb0e0b2>:7: FutureWarning: The frame.append method is deprecated and will be removed from pandas in a future version. Use pandas.concat instead.\n",
      "  df = df.append(source_data)\n"
     ]
    },
    {
     "data": {
      "text/html": [
       "\n",
       "  <div id=\"df-6b20838e-f09d-45bf-9f6f-736a04e94c7e\">\n",
       "    <div class=\"colab-df-container\">\n",
       "      <div>\n",
       "<style scoped>\n",
       "    .dataframe tbody tr th:only-of-type {\n",
       "        vertical-align: middle;\n",
       "    }\n",
       "\n",
       "    .dataframe tbody tr th {\n",
       "        vertical-align: top;\n",
       "    }\n",
       "\n",
       "    .dataframe thead th {\n",
       "        text-align: right;\n",
       "    }\n",
       "</style>\n",
       "<table border=\"1\" class=\"dataframe\">\n",
       "  <thead>\n",
       "    <tr style=\"text-align: right;\">\n",
       "      <th></th>\n",
       "      <th>id</th>\n",
       "      <th>date</th>\n",
       "      <th>text</th>\n",
       "    </tr>\n",
       "  </thead>\n",
       "  <tbody>\n",
       "    <tr>\n",
       "      <th>0</th>\n",
       "      <td>3</td>\n",
       "      <td>2018-01-15T16:12:18</td>\n",
       "      <td>из российских биржевых идеек я бы посмотрел се...</td>\n",
       "    </tr>\n",
       "    <tr>\n",
       "      <th>1</th>\n",
       "      <td>5</td>\n",
       "      <td>2018-01-16T00:47:25</td>\n",
       "      <td>рекомендовал пару недель назад xmg. cn\\nпервые...</td>\n",
       "    </tr>\n",
       "    <tr>\n",
       "      <th>2</th>\n",
       "      <td>7</td>\n",
       "      <td>2018-01-16T14:48:39</td>\n",
       "      <td>несмотря на страшно.  ужас ужас. выкупаю паден...</td>\n",
       "    </tr>\n",
       "    <tr>\n",
       "      <th>3</th>\n",
       "      <td>8</td>\n",
       "      <td>2018-01-16T15:04:23</td>\n",
       "      <td>январское ралли....в принципе, это не нечто не...</td>\n",
       "    </tr>\n",
       "    <tr>\n",
       "      <th>4</th>\n",
       "      <td>10</td>\n",
       "      <td>2018-01-16T21:36:35</td>\n",
       "      <td>все идет по плану</td>\n",
       "    </tr>\n",
       "  </tbody>\n",
       "</table>\n",
       "</div>\n",
       "      <button class=\"colab-df-convert\" onclick=\"convertToInteractive('df-6b20838e-f09d-45bf-9f6f-736a04e94c7e')\"\n",
       "              title=\"Convert this dataframe to an interactive table.\"\n",
       "              style=\"display:none;\">\n",
       "        \n",
       "  <svg xmlns=\"http://www.w3.org/2000/svg\" height=\"24px\"viewBox=\"0 0 24 24\"\n",
       "       width=\"24px\">\n",
       "    <path d=\"M0 0h24v24H0V0z\" fill=\"none\"/>\n",
       "    <path d=\"M18.56 5.44l.94 2.06.94-2.06 2.06-.94-2.06-.94-.94-2.06-.94 2.06-2.06.94zm-11 1L8.5 8.5l.94-2.06 2.06-.94-2.06-.94L8.5 2.5l-.94 2.06-2.06.94zm10 10l.94 2.06.94-2.06 2.06-.94-2.06-.94-.94-2.06-.94 2.06-2.06.94z\"/><path d=\"M17.41 7.96l-1.37-1.37c-.4-.4-.92-.59-1.43-.59-.52 0-1.04.2-1.43.59L10.3 9.45l-7.72 7.72c-.78.78-.78 2.05 0 2.83L4 21.41c.39.39.9.59 1.41.59.51 0 1.02-.2 1.41-.59l7.78-7.78 2.81-2.81c.8-.78.8-2.07 0-2.86zM5.41 20L4 18.59l7.72-7.72 1.47 1.35L5.41 20z\"/>\n",
       "  </svg>\n",
       "      </button>\n",
       "      \n",
       "  <style>\n",
       "    .colab-df-container {\n",
       "      display:flex;\n",
       "      flex-wrap:wrap;\n",
       "      gap: 12px;\n",
       "    }\n",
       "\n",
       "    .colab-df-convert {\n",
       "      background-color: #E8F0FE;\n",
       "      border: none;\n",
       "      border-radius: 50%;\n",
       "      cursor: pointer;\n",
       "      display: none;\n",
       "      fill: #1967D2;\n",
       "      height: 32px;\n",
       "      padding: 0 0 0 0;\n",
       "      width: 32px;\n",
       "    }\n",
       "\n",
       "    .colab-df-convert:hover {\n",
       "      background-color: #E2EBFA;\n",
       "      box-shadow: 0px 1px 2px rgba(60, 64, 67, 0.3), 0px 1px 3px 1px rgba(60, 64, 67, 0.15);\n",
       "      fill: #174EA6;\n",
       "    }\n",
       "\n",
       "    [theme=dark] .colab-df-convert {\n",
       "      background-color: #3B4455;\n",
       "      fill: #D2E3FC;\n",
       "    }\n",
       "\n",
       "    [theme=dark] .colab-df-convert:hover {\n",
       "      background-color: #434B5C;\n",
       "      box-shadow: 0px 1px 3px 1px rgba(0, 0, 0, 0.15);\n",
       "      filter: drop-shadow(0px 1px 2px rgba(0, 0, 0, 0.3));\n",
       "      fill: #FFFFFF;\n",
       "    }\n",
       "  </style>\n",
       "\n",
       "      <script>\n",
       "        const buttonEl =\n",
       "          document.querySelector('#df-6b20838e-f09d-45bf-9f6f-736a04e94c7e button.colab-df-convert');\n",
       "        buttonEl.style.display =\n",
       "          google.colab.kernel.accessAllowed ? 'block' : 'none';\n",
       "\n",
       "        async function convertToInteractive(key) {\n",
       "          const element = document.querySelector('#df-6b20838e-f09d-45bf-9f6f-736a04e94c7e');\n",
       "          const dataTable =\n",
       "            await google.colab.kernel.invokeFunction('convertToInteractive',\n",
       "                                                     [key], {});\n",
       "          if (!dataTable) return;\n",
       "\n",
       "          const docLinkHtml = 'Like what you see? Visit the ' +\n",
       "            '<a target=\"_blank\" href=https://colab.research.google.com/notebooks/data_table.ipynb>data table notebook</a>'\n",
       "            + ' to learn more about interactive tables.';\n",
       "          element.innerHTML = '';\n",
       "          dataTable['output_type'] = 'display_data';\n",
       "          await google.colab.output.renderOutput(dataTable, element);\n",
       "          const docLink = document.createElement('div');\n",
       "          docLink.innerHTML = docLinkHtml;\n",
       "          element.appendChild(docLink);\n",
       "        }\n",
       "      </script>\n",
       "    </div>\n",
       "  </div>\n",
       "  "
      ],
      "text/plain": [
       "   id                 date                                               text\n",
       "0   3  2018-01-15T16:12:18  из российских биржевых идеек я бы посмотрел се...\n",
       "1   5  2018-01-16T00:47:25  рекомендовал пару недель назад xmg. cn\\nпервые...\n",
       "2   7  2018-01-16T14:48:39  несмотря на страшно.  ужас ужас. выкупаю паден...\n",
       "3   8  2018-01-16T15:04:23  январское ралли....в принципе, это не нечто не...\n",
       "4  10  2018-01-16T21:36:35                                  все идет по плану"
      ]
     },
     "execution_count": 15,
     "metadata": {},
     "output_type": "execute_result"
    }
   ],
   "source": [
    "# Generate dataframes\n",
    "df = pd.DataFrame()\n",
    "\n",
    "for s in sources:\n",
    "    if s != '.gitignore':\n",
    "        source_data = pd.read_csv(f'{PATH_TEXTS}/{s}')\n",
    "        df = df.append(source_data)\n",
    "\n",
    "df.head()"
   ]
  },
  {
   "cell_type": "code",
   "execution_count": 16,
   "metadata": {
    "colab": {
     "base_uri": "https://localhost:8080/",
     "height": 204
    },
    "id": "jKtgAcxCrH1t",
    "outputId": "fd1cc343-04bc-4a47-e259-b4d6d8a90e1a"
   },
   "outputs": [
    {
     "data": {
      "text/html": [
       "\n",
       "  <div id=\"df-69e5373c-8610-431f-b995-cc38f6142d74\">\n",
       "    <div class=\"colab-df-container\">\n",
       "      <div>\n",
       "<style scoped>\n",
       "    .dataframe tbody tr th:only-of-type {\n",
       "        vertical-align: middle;\n",
       "    }\n",
       "\n",
       "    .dataframe tbody tr th {\n",
       "        vertical-align: top;\n",
       "    }\n",
       "\n",
       "    .dataframe thead th {\n",
       "        text-align: right;\n",
       "    }\n",
       "</style>\n",
       "<table border=\"1\" class=\"dataframe\">\n",
       "  <thead>\n",
       "    <tr style=\"text-align: right;\">\n",
       "      <th></th>\n",
       "      <th>id</th>\n",
       "      <th>date</th>\n",
       "      <th>text</th>\n",
       "      <th>pnl_sign</th>\n",
       "    </tr>\n",
       "  </thead>\n",
       "  <tbody>\n",
       "    <tr>\n",
       "      <th>0</th>\n",
       "      <td>10186</td>\n",
       "      <td>2021-01-05T09:37:44</td>\n",
       "      <td>Почему просели котировки нефти. Все очень прос...</td>\n",
       "      <td>521491.686795</td>\n",
       "    </tr>\n",
       "    <tr>\n",
       "      <th>1</th>\n",
       "      <td>10187</td>\n",
       "      <td>2021-01-05T09:41:54</td>\n",
       "      <td>Brent</td>\n",
       "      <td>521491.686795</td>\n",
       "    </tr>\n",
       "    <tr>\n",
       "      <th>2</th>\n",
       "      <td>10188</td>\n",
       "      <td>2021-01-05T09:42:23</td>\n",
       "      <td>Light</td>\n",
       "      <td>521491.686795</td>\n",
       "    </tr>\n",
       "    <tr>\n",
       "      <th>3</th>\n",
       "      <td>10189</td>\n",
       "      <td>2021-01-05T10:01:04</td>\n",
       "      <td>По итогам первого торгового дня года получил з...</td>\n",
       "      <td>521491.686795</td>\n",
       "    </tr>\n",
       "    <tr>\n",
       "      <th>4</th>\n",
       "      <td>10190</td>\n",
       "      <td>2021-01-05T10:09:56</td>\n",
       "      <td>Что-то непонятное происходит с рублем. USD/RUB...</td>\n",
       "      <td>521491.686795</td>\n",
       "    </tr>\n",
       "  </tbody>\n",
       "</table>\n",
       "</div>\n",
       "      <button class=\"colab-df-convert\" onclick=\"convertToInteractive('df-69e5373c-8610-431f-b995-cc38f6142d74')\"\n",
       "              title=\"Convert this dataframe to an interactive table.\"\n",
       "              style=\"display:none;\">\n",
       "        \n",
       "  <svg xmlns=\"http://www.w3.org/2000/svg\" height=\"24px\"viewBox=\"0 0 24 24\"\n",
       "       width=\"24px\">\n",
       "    <path d=\"M0 0h24v24H0V0z\" fill=\"none\"/>\n",
       "    <path d=\"M18.56 5.44l.94 2.06.94-2.06 2.06-.94-2.06-.94-.94-2.06-.94 2.06-2.06.94zm-11 1L8.5 8.5l.94-2.06 2.06-.94-2.06-.94L8.5 2.5l-.94 2.06-2.06.94zm10 10l.94 2.06.94-2.06 2.06-.94-2.06-.94-.94-2.06-.94 2.06-2.06.94z\"/><path d=\"M17.41 7.96l-1.37-1.37c-.4-.4-.92-.59-1.43-.59-.52 0-1.04.2-1.43.59L10.3 9.45l-7.72 7.72c-.78.78-.78 2.05 0 2.83L4 21.41c.39.39.9.59 1.41.59.51 0 1.02-.2 1.41-.59l7.78-7.78 2.81-2.81c.8-.78.8-2.07 0-2.86zM5.41 20L4 18.59l7.72-7.72 1.47 1.35L5.41 20z\"/>\n",
       "  </svg>\n",
       "      </button>\n",
       "      \n",
       "  <style>\n",
       "    .colab-df-container {\n",
       "      display:flex;\n",
       "      flex-wrap:wrap;\n",
       "      gap: 12px;\n",
       "    }\n",
       "\n",
       "    .colab-df-convert {\n",
       "      background-color: #E8F0FE;\n",
       "      border: none;\n",
       "      border-radius: 50%;\n",
       "      cursor: pointer;\n",
       "      display: none;\n",
       "      fill: #1967D2;\n",
       "      height: 32px;\n",
       "      padding: 0 0 0 0;\n",
       "      width: 32px;\n",
       "    }\n",
       "\n",
       "    .colab-df-convert:hover {\n",
       "      background-color: #E2EBFA;\n",
       "      box-shadow: 0px 1px 2px rgba(60, 64, 67, 0.3), 0px 1px 3px 1px rgba(60, 64, 67, 0.15);\n",
       "      fill: #174EA6;\n",
       "    }\n",
       "\n",
       "    [theme=dark] .colab-df-convert {\n",
       "      background-color: #3B4455;\n",
       "      fill: #D2E3FC;\n",
       "    }\n",
       "\n",
       "    [theme=dark] .colab-df-convert:hover {\n",
       "      background-color: #434B5C;\n",
       "      box-shadow: 0px 1px 3px 1px rgba(0, 0, 0, 0.15);\n",
       "      filter: drop-shadow(0px 1px 2px rgba(0, 0, 0, 0.3));\n",
       "      fill: #FFFFFF;\n",
       "    }\n",
       "  </style>\n",
       "\n",
       "      <script>\n",
       "        const buttonEl =\n",
       "          document.querySelector('#df-69e5373c-8610-431f-b995-cc38f6142d74 button.colab-df-convert');\n",
       "        buttonEl.style.display =\n",
       "          google.colab.kernel.accessAllowed ? 'block' : 'none';\n",
       "\n",
       "        async function convertToInteractive(key) {\n",
       "          const element = document.querySelector('#df-69e5373c-8610-431f-b995-cc38f6142d74');\n",
       "          const dataTable =\n",
       "            await google.colab.kernel.invokeFunction('convertToInteractive',\n",
       "                                                     [key], {});\n",
       "          if (!dataTable) return;\n",
       "\n",
       "          const docLinkHtml = 'Like what you see? Visit the ' +\n",
       "            '<a target=\"_blank\" href=https://colab.research.google.com/notebooks/data_table.ipynb>data table notebook</a>'\n",
       "            + ' to learn more about interactive tables.';\n",
       "          element.innerHTML = '';\n",
       "          dataTable['output_type'] = 'display_data';\n",
       "          await google.colab.output.renderOutput(dataTable, element);\n",
       "          const docLink = document.createElement('div');\n",
       "          docLink.innerHTML = docLinkHtml;\n",
       "          element.appendChild(docLink);\n",
       "        }\n",
       "      </script>\n",
       "    </div>\n",
       "  </div>\n",
       "  "
      ],
      "text/plain": [
       "      id                 date  \\\n",
       "0  10186  2021-01-05T09:37:44   \n",
       "1  10187  2021-01-05T09:41:54   \n",
       "2  10188  2021-01-05T09:42:23   \n",
       "3  10189  2021-01-05T10:01:04   \n",
       "4  10190  2021-01-05T10:09:56   \n",
       "\n",
       "                                                text       pnl_sign  \n",
       "0  Почему просели котировки нефти. Все очень прос...  521491.686795  \n",
       "1                                              Brent  521491.686795  \n",
       "2                                              Light  521491.686795  \n",
       "3  По итогам первого торгового дня года получил з...  521491.686795  \n",
       "4  Что-то непонятное происходит с рублем. USD/RUB...  521491.686795  "
      ]
     },
     "execution_count": 16,
     "metadata": {},
     "output_type": "execute_result"
    }
   ],
   "source": [
    "df['pnl_sign'] = df.apply(lambda row: get_pnl_sign(row), axis=1)\n",
    "df.dropna(subset=['pnl_sign'], inplace=True)\n",
    "df.reset_index(drop=True, inplace=True)\n",
    "df.head()"
   ]
  },
  {
   "cell_type": "code",
   "execution_count": 17,
   "metadata": {
    "colab": {
     "base_uri": "https://localhost:8080/"
    },
    "id": "mTiOB7zVta9m",
    "outputId": "6f00452a-8ac3-4c80-ba18-5282222b8834"
   },
   "outputs": [
    {
     "name": "stderr",
     "output_type": "stream",
     "text": [
      "[nltk_data] Downloading package stopwords to /root/nltk_data...\n",
      "[nltk_data]   Unzipping corpora/stopwords.zip.\n"
     ]
    },
    {
     "data": {
      "text/plain": [
       "True"
      ]
     },
     "execution_count": 17,
     "metadata": {},
     "output_type": "execute_result"
    }
   ],
   "source": [
    "import nltk\n",
    "\n",
    "nltk.download('stopwords')"
   ]
  },
  {
   "cell_type": "code",
   "execution_count": 18,
   "metadata": {
    "id": "CVucT157tcu2"
   },
   "outputs": [],
   "source": [
    "import re\n",
    "from pymorphy2 import MorphAnalyzer\n",
    "from nltk.corpus import stopwords\n",
    "\n",
    "from functools import lru_cache\n",
    "from tqdm.notebook import tqdm\n",
    "from tqdm.gui import tqdm as tqdm_gui\n",
    "\n",
    "m = MorphAnalyzer()\n",
    "regex = re.compile(\"[а-яa-zёЁ]+\")\n",
    "\n",
    "def words_only(text, regex=regex):\n",
    "    try:\n",
    "        return regex.findall(text.lower())\n",
    "    except:\n",
    "        return []\n",
    "\n",
    "@lru_cache(maxsize=128)\n",
    "def lemmatize_word(token, pymorphy=m):\n",
    "    return pymorphy.parse(token)[0].normal_form\n",
    "\n",
    "def lemmatize_text(text):\n",
    "    return [lemmatize_word(w) for w in text]\n",
    "\n",
    "mystopwords = stopwords.words('russian')\n",
    "def remove_stopwords(lemmas, stopwords = mystopwords):\n",
    "    return [w for w in lemmas if not w in stopwords and len(w) > 3]\n",
    "\n",
    "def clean_text(text):\n",
    "    tokens = words_only(text)\n",
    "    lemmas = lemmatize_text(tokens)\n",
    "\n",
    "    return ' '.join(remove_stopwords(lemmas))"
   ]
  },
  {
   "cell_type": "code",
   "execution_count": 19,
   "metadata": {
    "colab": {
     "base_uri": "https://localhost:8080/",
     "height": 49,
     "referenced_widgets": [
      "34b64944a28e4431a6ca48102851050d",
      "d45f31230609484bafefab239f37cbfe",
      "05e4c47a3db64b40ad771c9dd1945de5",
      "c3755571e22e4b83b8b2dd76bc8bd22f",
      "faebc3910a6b4f58b350d7390ecdc028",
      "4bade1fed70240759b5333e11a1cf10a",
      "b093e05480a14d089d6787509dc75e90",
      "b86a1ad45b6e456086180911d7b0dd04",
      "3fb6d2d072474932ba9bac6397ba7621",
      "a4032d4e1eba4b0c9472edbbd14380c7",
      "7d805dbf8f504dd78d14c6b31c37779e"
     ]
    },
    "id": "IYeNPwCOtdJ6",
    "outputId": "fd76eb4c-5cda-4c4e-f375-94d993dce8cf"
   },
   "outputs": [
    {
     "data": {
      "application/vnd.jupyter.widget-view+json": {
       "model_id": "34b64944a28e4431a6ca48102851050d",
       "version_major": 2,
       "version_minor": 0
      },
      "text/plain": [
       "  0%|          | 0/45412 [00:00<?, ?it/s]"
      ]
     },
     "metadata": {},
     "output_type": "display_data"
    }
   ],
   "source": [
    "lemmas = list(tqdm(map(clean_text, df['text']), total=len(df['text'].to_list())))"
   ]
  },
  {
   "cell_type": "code",
   "execution_count": 20,
   "metadata": {
    "colab": {
     "base_uri": "https://localhost:8080/",
     "height": 333
    },
    "id": "Z1_trVKEtfUf",
    "outputId": "ff9b6fdd-3d33-4411-c3cf-afd9ab538a62"
   },
   "outputs": [
    {
     "data": {
      "text/html": [
       "\n",
       "  <div id=\"df-df646854-edd9-4475-b82c-426623e79610\">\n",
       "    <div class=\"colab-df-container\">\n",
       "      <div>\n",
       "<style scoped>\n",
       "    .dataframe tbody tr th:only-of-type {\n",
       "        vertical-align: middle;\n",
       "    }\n",
       "\n",
       "    .dataframe tbody tr th {\n",
       "        vertical-align: top;\n",
       "    }\n",
       "\n",
       "    .dataframe thead th {\n",
       "        text-align: right;\n",
       "    }\n",
       "</style>\n",
       "<table border=\"1\" class=\"dataframe\">\n",
       "  <thead>\n",
       "    <tr style=\"text-align: right;\">\n",
       "      <th></th>\n",
       "      <th>id</th>\n",
       "      <th>date</th>\n",
       "      <th>text</th>\n",
       "      <th>pnl_sign</th>\n",
       "      <th>lemmas</th>\n",
       "    </tr>\n",
       "  </thead>\n",
       "  <tbody>\n",
       "    <tr>\n",
       "      <th>0</th>\n",
       "      <td>10186</td>\n",
       "      <td>2021-01-05T09:37:44</td>\n",
       "      <td>Почему просели котировки нефти. Все очень прос...</td>\n",
       "      <td>521491.686795</td>\n",
       "      <td>почему просесть котировка нефть очень просто п...</td>\n",
       "    </tr>\n",
       "    <tr>\n",
       "      <th>1</th>\n",
       "      <td>10187</td>\n",
       "      <td>2021-01-05T09:41:54</td>\n",
       "      <td>Brent</td>\n",
       "      <td>521491.686795</td>\n",
       "      <td>brent</td>\n",
       "    </tr>\n",
       "    <tr>\n",
       "      <th>2</th>\n",
       "      <td>10188</td>\n",
       "      <td>2021-01-05T09:42:23</td>\n",
       "      <td>Light</td>\n",
       "      <td>521491.686795</td>\n",
       "      <td>light</td>\n",
       "    </tr>\n",
       "    <tr>\n",
       "      <th>3</th>\n",
       "      <td>10189</td>\n",
       "      <td>2021-01-05T10:01:04</td>\n",
       "      <td>По итогам первого торгового дня года получил з...</td>\n",
       "      <td>521491.686795</td>\n",
       "      <td>итог первый торговый день получить звонок встр...</td>\n",
       "    </tr>\n",
       "    <tr>\n",
       "      <th>4</th>\n",
       "      <td>10190</td>\n",
       "      <td>2021-01-05T10:09:56</td>\n",
       "      <td>Что-то непонятное происходит с рублем. USD/RUB...</td>\n",
       "      <td>521491.686795</td>\n",
       "      <td>непонятный происходить рубль взлететь минута п...</td>\n",
       "    </tr>\n",
       "  </tbody>\n",
       "</table>\n",
       "</div>\n",
       "      <button class=\"colab-df-convert\" onclick=\"convertToInteractive('df-df646854-edd9-4475-b82c-426623e79610')\"\n",
       "              title=\"Convert this dataframe to an interactive table.\"\n",
       "              style=\"display:none;\">\n",
       "        \n",
       "  <svg xmlns=\"http://www.w3.org/2000/svg\" height=\"24px\"viewBox=\"0 0 24 24\"\n",
       "       width=\"24px\">\n",
       "    <path d=\"M0 0h24v24H0V0z\" fill=\"none\"/>\n",
       "    <path d=\"M18.56 5.44l.94 2.06.94-2.06 2.06-.94-2.06-.94-.94-2.06-.94 2.06-2.06.94zm-11 1L8.5 8.5l.94-2.06 2.06-.94-2.06-.94L8.5 2.5l-.94 2.06-2.06.94zm10 10l.94 2.06.94-2.06 2.06-.94-2.06-.94-.94-2.06-.94 2.06-2.06.94z\"/><path d=\"M17.41 7.96l-1.37-1.37c-.4-.4-.92-.59-1.43-.59-.52 0-1.04.2-1.43.59L10.3 9.45l-7.72 7.72c-.78.78-.78 2.05 0 2.83L4 21.41c.39.39.9.59 1.41.59.51 0 1.02-.2 1.41-.59l7.78-7.78 2.81-2.81c.8-.78.8-2.07 0-2.86zM5.41 20L4 18.59l7.72-7.72 1.47 1.35L5.41 20z\"/>\n",
       "  </svg>\n",
       "      </button>\n",
       "      \n",
       "  <style>\n",
       "    .colab-df-container {\n",
       "      display:flex;\n",
       "      flex-wrap:wrap;\n",
       "      gap: 12px;\n",
       "    }\n",
       "\n",
       "    .colab-df-convert {\n",
       "      background-color: #E8F0FE;\n",
       "      border: none;\n",
       "      border-radius: 50%;\n",
       "      cursor: pointer;\n",
       "      display: none;\n",
       "      fill: #1967D2;\n",
       "      height: 32px;\n",
       "      padding: 0 0 0 0;\n",
       "      width: 32px;\n",
       "    }\n",
       "\n",
       "    .colab-df-convert:hover {\n",
       "      background-color: #E2EBFA;\n",
       "      box-shadow: 0px 1px 2px rgba(60, 64, 67, 0.3), 0px 1px 3px 1px rgba(60, 64, 67, 0.15);\n",
       "      fill: #174EA6;\n",
       "    }\n",
       "\n",
       "    [theme=dark] .colab-df-convert {\n",
       "      background-color: #3B4455;\n",
       "      fill: #D2E3FC;\n",
       "    }\n",
       "\n",
       "    [theme=dark] .colab-df-convert:hover {\n",
       "      background-color: #434B5C;\n",
       "      box-shadow: 0px 1px 3px 1px rgba(0, 0, 0, 0.15);\n",
       "      filter: drop-shadow(0px 1px 2px rgba(0, 0, 0, 0.3));\n",
       "      fill: #FFFFFF;\n",
       "    }\n",
       "  </style>\n",
       "\n",
       "      <script>\n",
       "        const buttonEl =\n",
       "          document.querySelector('#df-df646854-edd9-4475-b82c-426623e79610 button.colab-df-convert');\n",
       "        buttonEl.style.display =\n",
       "          google.colab.kernel.accessAllowed ? 'block' : 'none';\n",
       "\n",
       "        async function convertToInteractive(key) {\n",
       "          const element = document.querySelector('#df-df646854-edd9-4475-b82c-426623e79610');\n",
       "          const dataTable =\n",
       "            await google.colab.kernel.invokeFunction('convertToInteractive',\n",
       "                                                     [key], {});\n",
       "          if (!dataTable) return;\n",
       "\n",
       "          const docLinkHtml = 'Like what you see? Visit the ' +\n",
       "            '<a target=\"_blank\" href=https://colab.research.google.com/notebooks/data_table.ipynb>data table notebook</a>'\n",
       "            + ' to learn more about interactive tables.';\n",
       "          element.innerHTML = '';\n",
       "          dataTable['output_type'] = 'display_data';\n",
       "          await google.colab.output.renderOutput(dataTable, element);\n",
       "          const docLink = document.createElement('div');\n",
       "          docLink.innerHTML = docLinkHtml;\n",
       "          element.appendChild(docLink);\n",
       "        }\n",
       "      </script>\n",
       "    </div>\n",
       "  </div>\n",
       "  "
      ],
      "text/plain": [
       "      id                 date  \\\n",
       "0  10186  2021-01-05T09:37:44   \n",
       "1  10187  2021-01-05T09:41:54   \n",
       "2  10188  2021-01-05T09:42:23   \n",
       "3  10189  2021-01-05T10:01:04   \n",
       "4  10190  2021-01-05T10:09:56   \n",
       "\n",
       "                                                text       pnl_sign  \\\n",
       "0  Почему просели котировки нефти. Все очень прос...  521491.686795   \n",
       "1                                              Brent  521491.686795   \n",
       "2                                              Light  521491.686795   \n",
       "3  По итогам первого торгового дня года получил з...  521491.686795   \n",
       "4  Что-то непонятное происходит с рублем. USD/RUB...  521491.686795   \n",
       "\n",
       "                                              lemmas  \n",
       "0  почему просесть котировка нефть очень просто п...  \n",
       "1                                              brent  \n",
       "2                                              light  \n",
       "3  итог первый торговый день получить звонок встр...  \n",
       "4  непонятный происходить рубль взлететь минута п...  "
      ]
     },
     "execution_count": 20,
     "metadata": {},
     "output_type": "execute_result"
    }
   ],
   "source": [
    "df['lemmas'] = lemmas\n",
    "df = df[df['lemmas'] != '']\n",
    "df.head()"
   ]
  },
  {
   "cell_type": "code",
   "execution_count": 21,
   "metadata": {
    "colab": {
     "base_uri": "https://localhost:8080/"
    },
    "id": "kvemyAROucLb",
    "outputId": "40e0d45f-e641-485c-c4c5-7f092a06aa6a"
   },
   "outputs": [
    {
     "data": {
      "text/plain": [
       "(45362, 5)"
      ]
     },
     "execution_count": 21,
     "metadata": {},
     "output_type": "execute_result"
    }
   ],
   "source": [
    "df.shape"
   ]
  },
  {
   "cell_type": "code",
   "execution_count": 22,
   "metadata": {
    "colab": {
     "base_uri": "https://localhost:8080/"
    },
    "id": "Z85FW_odz1ap",
    "outputId": "b68a4f37-6f57-4068-ba93-9ea04b65c24f"
   },
   "outputs": [
    {
     "name": "stdout",
     "output_type": "stream",
     "text": [
      "Looking in indexes: https://pypi.org/simple, https://us-python.pkg.dev/colab-wheels/public/simple/\n",
      "Collecting fast_ml\n",
      "  Downloading fast_ml-3.68-py3-none-any.whl (42 kB)\n",
      "\u001b[?25l     \u001b[90m━━━━━━━━━━━━━━━━━━━━━━━━━━━━━━━━━━━━━━━━\u001b[0m \u001b[32m0.0/42.1 kB\u001b[0m \u001b[31m?\u001b[0m eta \u001b[36m-:--:--\u001b[0m\r",
      "\u001b[2K     \u001b[90m━━━━━━━━━━━━━━━━━━━━━━━━━━━━━━━━━━━━━━━━\u001b[0m \u001b[32m42.1/42.1 kB\u001b[0m \u001b[31m3.6 MB/s\u001b[0m eta \u001b[36m0:00:00\u001b[0m\n",
      "\u001b[?25hInstalling collected packages: fast_ml\n",
      "Successfully installed fast_ml-3.68\n"
     ]
    }
   ],
   "source": [
    "!pip install fast_ml"
   ]
  },
  {
   "cell_type": "code",
   "execution_count": 23,
   "metadata": {
    "id": "49iEfay4z5ar"
   },
   "outputs": [],
   "source": [
    "from fast_ml.model_development import train_valid_test_split\n",
    "\n",
    "X_train, X_train['pnl_sign'], X_valid, X_valid['pnl_sign'],\n",
    "X_test, X_test['pnl_sign'] = train_valid_test_split(df[['lemmas', 'pnl_sign']], target = 'pnl_sign',\n",
    "                                                    train_size=0.8, valid_size=0.1, test_size=0.1)"
   ]
  },
  {
   "cell_type": "code",
   "execution_count": 24,
   "metadata": {
    "id": "bYRXKuob0gUm"
   },
   "outputs": [],
   "source": [
    "import numpy as np\n",
    "\n",
    "pnl_mean = X_train['pnl_sign'].mean()\n",
    "pnl_std = np.std(X_train['pnl_sign'])\n",
    "\n",
    "X_train['pnl_sign'] = (X_train['pnl_sign'] - pnl_mean) / pnl_std\n",
    "X_valid['pnl_sign'] = (X_valid['pnl_sign'] - pnl_mean) / pnl_std\n",
    "X_test['pnl_sign'] = (X_test['pnl_sign'] - pnl_mean) / pnl_std"
   ]
  },
  {
   "cell_type": "code",
   "execution_count": 25,
   "metadata": {
    "id": "eQbrXwnm0-v9"
   },
   "outputs": [],
   "source": [
    "def classify(data: pd.DataFrame, column_name: str = 'pnl', thr: float = 0.12, include_small: bool = False) -> pd.DataFrame:\n",
    "    data[column_name] = data[column_name].apply(lambda x: 1 if x >= thr else (0 if x <= -thr else 2))\n",
    "    if not include_small:\n",
    "        data = data[data[column_name] != 2]\n",
    "    return data"
   ]
  },
  {
   "cell_type": "code",
   "execution_count": 26,
   "metadata": {
    "id": "DVmhs9rc1khH"
   },
   "outputs": [],
   "source": [
    "X_train = classify(X_train, 'pnl_sign')\n",
    "X_valid = classify(X_valid, 'pnl_sign')\n",
    "X_test = classify(X_test, 'pnl_sign')"
   ]
  },
  {
   "cell_type": "code",
   "execution_count": 27,
   "metadata": {
    "colab": {
     "base_uri": "https://localhost:8080/"
    },
    "id": "g21AFL3L1uFo",
    "outputId": "fcb34db4-a1c5-40cd-b805-fcd844cd01a2"
   },
   "outputs": [
    {
     "data": {
      "text/plain": [
       "(30466, 3900, 3900)"
      ]
     },
     "execution_count": 27,
     "metadata": {},
     "output_type": "execute_result"
    }
   ],
   "source": [
    "X_train.shape[0], X_valid.shape[0], X_valid.shape[0]"
   ]
  },
  {
   "cell_type": "code",
   "execution_count": 28,
   "metadata": {
    "colab": {
     "base_uri": "https://localhost:8080/"
    },
    "id": "kasI1Grd2bQa",
    "outputId": "8877e681-3907-4e6b-b74a-00594e007503"
   },
   "outputs": [
    {
     "data": {
      "text/plain": [
       "(0.3210464123941443, 0.32666666666666666, 0.31625487646293887)"
      ]
     },
     "execution_count": 28,
     "metadata": {},
     "output_type": "execute_result"
    }
   ],
   "source": [
    "X_train['pnl_sign'].sum() / X_train['pnl_sign'].shape[0], X_valid['pnl_sign'].sum() / X_valid.shape[0], X_test['pnl_sign'].sum() / X_test.shape[0]"
   ]
  },
  {
   "cell_type": "code",
   "execution_count": 29,
   "metadata": {
    "colab": {
     "base_uri": "https://localhost:8080/"
    },
    "id": "ddHkyEp9JELU",
    "outputId": "1af58c0c-1bf5-4a1d-d36f-3ba0fe71190b"
   },
   "outputs": [
    {
     "data": {
      "text/plain": [
       "228"
      ]
     },
     "execution_count": 29,
     "metadata": {},
     "output_type": "execute_result"
    }
   ],
   "source": [
    "N_TOKENS_PER_BATCH = 12000\n",
    "\n",
    "batch_size = int(round(N_TOKENS_PER_BATCH / df['lemmas'].apply(lambda x: len(x.split(' '))).mean(), 0))\n",
    "batch_size"
   ]
  },
  {
   "cell_type": "markdown",
   "metadata": {
    "id": "xJtu_4PKFAxU"
   },
   "source": [
    "Initialize BERT classifier"
   ]
  },
  {
   "cell_type": "code",
   "execution_count": 30,
   "metadata": {
    "colab": {
     "base_uri": "https://localhost:8080/",
     "height": 282,
     "referenced_widgets": [
      "b0e31db393da44a08f5e7c14deb50e2a",
      "4d77eedeed0641fb83ba543f59a7e65b",
      "9ef58151b20a40a1a942cdf46ea3ae0e",
      "57cef29fe4904176884772cf2871b68b",
      "77afac63a49249faab07235389b66a9a",
      "d7712064d34348a78c631e4d4412a80f",
      "6ca9a6781e5e4cb2b48f6248271f033e",
      "98d4478ed1d24daeb872540011e2e06e",
      "f88a8a60b182444a866f448835f71e44",
      "1c8b1b82b6cb4b909466ae7e59553e78",
      "f2743f86eb3246848b71e828b84aa1d1",
      "0b862437fc0b433294485d243b582fca",
      "55397242d97049398b3987d206ec5714",
      "674347752c9c4d4c8cde6b2a22847881",
      "3724f12de65e47b7bb14b096b19ed829",
      "7c33c050b15b43a5b10272854ed2f28e",
      "56256b4e11764eda9cf156d2d21455af",
      "888256ec648545b99bc5d3e32e9a2ad5",
      "0e9ebd7eec9848f7bcdff9882a4e2c52",
      "527f303f1fb24ff5a0947d07c71cece5",
      "848f7dcc1d1844e9825ffd9db8f9233f",
      "b57fd1576c024417932ac85124badc0e",
      "d92c95bdd1ab4f0f8a448900f17294bf",
      "a0aa96c72b5d4d9b94c89e7edfa9dc30",
      "3702c6cd2f2c4853b9fe6007ae1cdcd8",
      "388c38de4a944b08a0e3734d4da18131",
      "18f27b7351b34339a6ade07d4c2d1dac",
      "76963a7953654a4d9cafa6ad94c63d9c",
      "e00bb571c35547aeb1f62f08e608ecba",
      "76c80652dfdf45408b708ad043d6d75b",
      "fedb99f35a62418d84d47e304e9b8d02",
      "76ac302b6be641c386355872504bac68",
      "308a36808eb44e498dfab9709dc0822c",
      "fafbb4c8bf36449f93e0125b0b73c67c",
      "ae879ff5e7954c698f01c661cd75c6b9",
      "f81a8108eaf043afacb76a1c49908ed7",
      "3a835de8c4ad45da9abe0f04e4d1f496",
      "bca0a5026ead417bac3e7f29cae6f046",
      "c64871c0fbfc40b1b46ffe6a627e2d04",
      "b3e1567991fc44b89d786464960a0b60",
      "b1ee6efd269749eca894e32fe036b711",
      "4b3659c7cc9f427bb09fd024a6297c05",
      "f9b900d540794e688de2867e6588a9bf",
      "05f7252b73f94a4ab6cd69f4ebb6aded",
      "2fd5278b02734573a304b3acb752e765",
      "dc66a32ec0d6425791967bb312b0e650",
      "da1aa24124bd46e0983d3b13cf29afde",
      "02a064c2c9c5433a89a140e0c4974176",
      "b06dc1005bd44b459740e48a8571765b",
      "35fe6a312182404bb05de8baf3926bbe",
      "dfb918d9344643238df4727cef58a55d",
      "224200fedd204eb183837695c5d317da",
      "776d9a66146545099c64f76a7e1c54c1",
      "ee8f72600fa647fc800c063dfa906a70",
      "1382d2457fbf4d5988a59802f25dce3d"
     ]
    },
    "id": "kFHabt8p_IY7",
    "outputId": "72da6e66-ea84-48ce-b665-ac0a914a9634"
   },
   "outputs": [
    {
     "data": {
      "application/vnd.jupyter.widget-view+json": {
       "model_id": "b0e31db393da44a08f5e7c14deb50e2a",
       "version_major": 2,
       "version_minor": 0
      },
      "text/plain": [
       "Downloading (…)lve/main/config.json:   0%|          | 0.00/632 [00:00<?, ?B/s]"
      ]
     },
     "metadata": {},
     "output_type": "display_data"
    },
    {
     "data": {
      "application/vnd.jupyter.widget-view+json": {
       "model_id": "0b862437fc0b433294485d243b582fca",
       "version_major": 2,
       "version_minor": 0
      },
      "text/plain": [
       "Downloading model.safetensors:   0%|          | 0.00/47.7M [00:00<?, ?B/s]"
      ]
     },
     "metadata": {},
     "output_type": "display_data"
    },
    {
     "name": "stderr",
     "output_type": "stream",
     "text": [
      "Some weights of the model checkpoint at cointegrated/rubert-tiny were not used when initializing BertForSequenceClassification: ['cls.predictions.transform.LayerNorm.weight', 'cls.predictions.transform.LayerNorm.bias', 'cls.seq_relationship.weight', 'cls.predictions.bias', 'cls.predictions.transform.dense.bias', 'cls.seq_relationship.bias', 'cls.predictions.transform.dense.weight']\n",
      "- This IS expected if you are initializing BertForSequenceClassification from the checkpoint of a model trained on another task or with another architecture (e.g. initializing a BertForSequenceClassification model from a BertForPreTraining model).\n",
      "- This IS NOT expected if you are initializing BertForSequenceClassification from the checkpoint of a model that you expect to be exactly identical (initializing a BertForSequenceClassification model from a BertForSequenceClassification model).\n",
      "Some weights of BertForSequenceClassification were not initialized from the model checkpoint at cointegrated/rubert-tiny and are newly initialized: ['classifier.bias', 'classifier.weight']\n",
      "You should probably TRAIN this model on a down-stream task to be able to use it for predictions and inference.\n"
     ]
    },
    {
     "data": {
      "application/vnd.jupyter.widget-view+json": {
       "model_id": "d92c95bdd1ab4f0f8a448900f17294bf",
       "version_major": 2,
       "version_minor": 0
      },
      "text/plain": [
       "Downloading (…)solve/main/vocab.txt:   0%|          | 0.00/241k [00:00<?, ?B/s]"
      ]
     },
     "metadata": {},
     "output_type": "display_data"
    },
    {
     "data": {
      "application/vnd.jupyter.widget-view+json": {
       "model_id": "fafbb4c8bf36449f93e0125b0b73c67c",
       "version_major": 2,
       "version_minor": 0
      },
      "text/plain": [
       "Downloading (…)cial_tokens_map.json:   0%|          | 0.00/112 [00:00<?, ?B/s]"
      ]
     },
     "metadata": {},
     "output_type": "display_data"
    },
    {
     "data": {
      "application/vnd.jupyter.widget-view+json": {
       "model_id": "2fd5278b02734573a304b3acb752e765",
       "version_major": 2,
       "version_minor": 0
      },
      "text/plain": [
       "Downloading (…)okenizer_config.json:   0%|          | 0.00/341 [00:00<?, ?B/s]"
      ]
     },
     "metadata": {},
     "output_type": "display_data"
    }
   ],
   "source": [
    "classifier = BertClassifier(\n",
    "        model_path='cointegrated/rubert-tiny',\n",
    "        tokenizer_path='cointegrated/rubert-tiny',\n",
    "        n_classes=len(np.unique(X_train['pnl_sign'])),\n",
    "        epochs=N_EPOCHS,\n",
    "        model_save_path='/content/bert.pt'\n",
    ")"
   ]
  },
  {
   "cell_type": "markdown",
   "metadata": {
    "id": "5dc-F_9vFGb1"
   },
   "source": [
    "Prepare data and helpers for train and evlauation"
   ]
  },
  {
   "cell_type": "code",
   "execution_count": 31,
   "metadata": {
    "id": "KoB7lDv_8AWe"
   },
   "outputs": [],
   "source": [
    "classifier.preparation(\n",
    "        X_train=X_train['lemmas'].tolist(),\n",
    "        y_train=X_train['pnl_sign'].tolist(),\n",
    "        X_valid=X_valid['lemmas'].tolist(),\n",
    "        y_valid=X_valid['pnl_sign'].tolist(),\n",
    "        batch_size=20\n",
    "    )"
   ]
  },
  {
   "cell_type": "markdown",
   "metadata": {
    "id": "eUVTfpC5FPsr"
   },
   "source": [
    "Train loop"
   ]
  },
  {
   "cell_type": "code",
   "execution_count": 32,
   "metadata": {
    "colab": {
     "base_uri": "https://localhost:8080/"
    },
    "id": "Pj_RQTCB9dNJ",
    "outputId": "d3bf45f9-95c4-44e8-d220-d148450f1d4d"
   },
   "outputs": [
    {
     "name": "stdout",
     "output_type": "stream",
     "text": [
      "Epoch 1/10\n",
      "Train loss 0.6831118599010577 accuracy 0.5718834110155583\n",
      "Val loss 0.6669418010956202 accuracy 0.5766666666666667\n",
      "----------\n",
      "Epoch 2/10\n",
      "Train loss 0.6560002477580481 accuracy 0.6236132081664806\n",
      "Val loss 0.6635657334939028 accuracy 0.6182051282051282\n",
      "----------\n",
      "Epoch 3/10\n",
      "Train loss 0.6374846129162418 accuracy 0.6482636381540077\n",
      "Val loss 0.663967922100654 accuracy 0.5987179487179487\n",
      "----------\n",
      "Epoch 4/10\n",
      "Train loss 0.6189784937956202 accuracy 0.6665463139237182\n",
      "Val loss 0.6720926336753063 accuracy 0.6456410256410257\n",
      "----------\n",
      "Epoch 5/10\n",
      "Train loss 0.597670557246277 accuracy 0.6848618131687783\n",
      "Val loss 0.6791791425301479 accuracy 0.6166666666666667\n",
      "----------\n",
      "Epoch 6/10\n",
      "Train loss 0.5781421528694042 accuracy 0.7036368410687323\n",
      "Val loss 0.6946500796538133 accuracy 0.6402564102564102\n",
      "----------\n",
      "Epoch 7/10\n",
      "Train loss 0.5639816879287479 accuracy 0.7149281165889844\n",
      "Val loss 0.7095161752823071 accuracy 0.6133333333333333\n",
      "----------\n",
      "Epoch 8/10\n",
      "Train loss 0.5485942618153853 accuracy 0.7255629226022451\n",
      "Val loss 0.7258337477842967 accuracy 0.6330769230769231\n",
      "----------\n",
      "Epoch 9/10\n",
      "Train loss 0.5387933616015542 accuracy 0.7322260880982078\n",
      "Val loss 0.7397504977690867 accuracy 0.6382051282051282\n",
      "----------\n",
      "Epoch 10/10\n",
      "Train loss 0.5313967679800793 accuracy 0.7336703210135889\n",
      "Val loss 0.7431311482038253 accuracy 0.6215384615384615\n",
      "----------\n"
     ]
    }
   ],
   "source": [
    "classifier.train()"
   ]
  },
  {
   "cell_type": "markdown",
   "metadata": {
    "id": "yPqZPcTmFTSd"
   },
   "source": [
    "Check test data"
   ]
  },
  {
   "cell_type": "code",
   "execution_count": 33,
   "metadata": {
    "id": "B1jAxkTkBEMv"
   },
   "outputs": [],
   "source": [
    "predictions = [classifier.predict(t) for t in X_test['lemmas'].tolist()]"
   ]
  },
  {
   "cell_type": "code",
   "execution_count": 34,
   "metadata": {
    "colab": {
     "base_uri": "https://localhost:8080/"
    },
    "id": "xhJosdy6Bn0o",
    "outputId": "c5d9e12c-0684-4013-8674-a9f0e05a0560"
   },
   "outputs": [
    {
     "name": "stdout",
     "output_type": "stream",
     "text": [
      "precision: 0.5969892603951573, recall: 0.6017321975536025, f1score: 0.5986350799682892\n"
     ]
    }
   ],
   "source": [
    "from sklearn.metrics import precision_recall_fscore_support\n",
    "\n",
    "precision, recall, f1score = precision_recall_fscore_support(X_test['pnl_sign'].tolist(), predictions, average='macro')[:3]\n",
    "\n",
    "print(f'precision: {precision}, recall: {recall}, f1score: {f1score}')"
   ]
  },
  {
   "cell_type": "code",
   "execution_count": 35,
   "metadata": {
    "colab": {
     "base_uri": "https://localhost:8080/"
    },
    "id": "ileO_nNRMpLo",
    "outputId": "55718546-1219-4364-9a96-ef41e1fd4140"
   },
   "outputs": [
    {
     "data": {
      "text/plain": [
       "array([[1884,  745],\n",
       "       [ 624,  592]])"
      ]
     },
     "execution_count": 35,
     "metadata": {},
     "output_type": "execute_result"
    }
   ],
   "source": [
    "from sklearn.metrics import confusion_matrix, accuracy_score\n",
    "\n",
    "cm = confusion_matrix(X_test['pnl_sign'].tolist(), predictions)\n",
    "cm"
   ]
  },
  {
   "cell_type": "code",
   "execution_count": 36,
   "metadata": {
    "colab": {
     "base_uri": "https://localhost:8080/"
    },
    "id": "z49aXWzjyeBy",
    "outputId": "853eacac-024c-4b10-ff8c-602e9c82b3c2"
   },
   "outputs": [
    {
     "data": {
      "text/plain": [
       "0.6439531859557868"
      ]
     },
     "execution_count": 36,
     "metadata": {},
     "output_type": "execute_result"
    }
   ],
   "source": [
    "accuracy_score(X_test['pnl_sign'].tolist(), predictions)"
   ]
  },
  {
   "cell_type": "code",
   "execution_count": 37,
   "metadata": {
    "colab": {
     "base_uri": "https://localhost:8080/"
    },
    "id": "jNAw71MDC8fl",
    "outputId": "2a5108d9-c8cc-470a-b51f-18fcdeeb130d"
   },
   "outputs": [
    {
     "data": {
      "text/plain": [
       "0.6837451235370611"
      ]
     },
     "execution_count": 37,
     "metadata": {},
     "output_type": "execute_result"
    }
   ],
   "source": [
    "max(X_test['pnl_sign'].sum() / X_test.shape[0], 1 - X_test['pnl_sign'].sum() / X_test.shape[0])"
   ]
  },
  {
   "cell_type": "code",
   "execution_count": 38,
   "metadata": {
    "colab": {
     "base_uri": "https://localhost:8080/"
    },
    "id": "Fz0QCp0eIa5H",
    "outputId": "6920560f-3070-4f44-cac5-fd83e7d162d4"
   },
   "outputs": [
    {
     "data": {
      "text/plain": [
       "52.61057713504695"
      ]
     },
     "execution_count": 38,
     "metadata": {},
     "output_type": "execute_result"
    }
   ],
   "source": [
    "df['lemmas'].apply(lambda x: len(x.split(' '))).mean()"
   ]
  },
  {
   "cell_type": "code",
   "execution_count": 39,
   "metadata": {
    "colab": {
     "base_uri": "https://localhost:8080/"
    },
    "id": "pcRWepX4I4j5",
    "outputId": "98472f58-e7f2-43ec-ab49-ecb18470001b"
   },
   "outputs": [
    {
     "data": {
      "text/plain": [
       "228.09101616956232"
      ]
     },
     "execution_count": 39,
     "metadata": {},
     "output_type": "execute_result"
    }
   ],
   "source": [
    "12000 / df['lemmas'].apply(lambda x: len(x.split(' '))).mean()"
   ]
  }
 ],
 "metadata": {
  "accelerator": "GPU",
  "colab": {
   "gpuType": "T4",
   "provenance": []
  },
  "kernelspec": {
   "display_name": "Python 3 (ipykernel)",
   "language": "python",
   "name": "python3"
  },
  "language_info": {
   "codemirror_mode": {
    "name": "ipython",
    "version": 3
   },
   "file_extension": ".py",
   "mimetype": "text/x-python",
   "name": "python",
   "nbconvert_exporter": "python",
   "pygments_lexer": "ipython3",
   "version": "3.10.4"
  },
  "widgets": {
   "application/vnd.jupyter.widget-state+json": {
    "02a064c2c9c5433a89a140e0c4974176": {
     "model_module": "@jupyter-widgets/controls",
     "model_module_version": "1.5.0",
     "model_name": "HTMLModel",
     "state": {
      "_dom_classes": [],
      "_model_module": "@jupyter-widgets/controls",
      "_model_module_version": "1.5.0",
      "_model_name": "HTMLModel",
      "_view_count": null,
      "_view_module": "@jupyter-widgets/controls",
      "_view_module_version": "1.5.0",
      "_view_name": "HTMLView",
      "description": "",
      "description_tooltip": null,
      "layout": "IPY_MODEL_ee8f72600fa647fc800c063dfa906a70",
      "placeholder": "​",
      "style": "IPY_MODEL_1382d2457fbf4d5988a59802f25dce3d",
      "value": " 341/341 [00:00&lt;00:00, 21.6kB/s]"
     }
    },
    "05e4c47a3db64b40ad771c9dd1945de5": {
     "model_module": "@jupyter-widgets/controls",
     "model_module_version": "1.5.0",
     "model_name": "FloatProgressModel",
     "state": {
      "_dom_classes": [],
      "_model_module": "@jupyter-widgets/controls",
      "_model_module_version": "1.5.0",
      "_model_name": "FloatProgressModel",
      "_view_count": null,
      "_view_module": "@jupyter-widgets/controls",
      "_view_module_version": "1.5.0",
      "_view_name": "ProgressView",
      "bar_style": "success",
      "description": "",
      "description_tooltip": null,
      "layout": "IPY_MODEL_b86a1ad45b6e456086180911d7b0dd04",
      "max": 45412,
      "min": 0,
      "orientation": "horizontal",
      "style": "IPY_MODEL_3fb6d2d072474932ba9bac6397ba7621",
      "value": 45412
     }
    },
    "05f7252b73f94a4ab6cd69f4ebb6aded": {
     "model_module": "@jupyter-widgets/controls",
     "model_module_version": "1.5.0",
     "model_name": "DescriptionStyleModel",
     "state": {
      "_model_module": "@jupyter-widgets/controls",
      "_model_module_version": "1.5.0",
      "_model_name": "DescriptionStyleModel",
      "_view_count": null,
      "_view_module": "@jupyter-widgets/base",
      "_view_module_version": "1.2.0",
      "_view_name": "StyleView",
      "description_width": ""
     }
    },
    "0b862437fc0b433294485d243b582fca": {
     "model_module": "@jupyter-widgets/controls",
     "model_module_version": "1.5.0",
     "model_name": "HBoxModel",
     "state": {
      "_dom_classes": [],
      "_model_module": "@jupyter-widgets/controls",
      "_model_module_version": "1.5.0",
      "_model_name": "HBoxModel",
      "_view_count": null,
      "_view_module": "@jupyter-widgets/controls",
      "_view_module_version": "1.5.0",
      "_view_name": "HBoxView",
      "box_style": "",
      "children": [
       "IPY_MODEL_55397242d97049398b3987d206ec5714",
       "IPY_MODEL_674347752c9c4d4c8cde6b2a22847881",
       "IPY_MODEL_3724f12de65e47b7bb14b096b19ed829"
      ],
      "layout": "IPY_MODEL_7c33c050b15b43a5b10272854ed2f28e"
     }
    },
    "0e9ebd7eec9848f7bcdff9882a4e2c52": {
     "model_module": "@jupyter-widgets/base",
     "model_module_version": "1.2.0",
     "model_name": "LayoutModel",
     "state": {
      "_model_module": "@jupyter-widgets/base",
      "_model_module_version": "1.2.0",
      "_model_name": "LayoutModel",
      "_view_count": null,
      "_view_module": "@jupyter-widgets/base",
      "_view_module_version": "1.2.0",
      "_view_name": "LayoutView",
      "align_content": null,
      "align_items": null,
      "align_self": null,
      "border": null,
      "bottom": null,
      "display": null,
      "flex": null,
      "flex_flow": null,
      "grid_area": null,
      "grid_auto_columns": null,
      "grid_auto_flow": null,
      "grid_auto_rows": null,
      "grid_column": null,
      "grid_gap": null,
      "grid_row": null,
      "grid_template_areas": null,
      "grid_template_columns": null,
      "grid_template_rows": null,
      "height": null,
      "justify_content": null,
      "justify_items": null,
      "left": null,
      "margin": null,
      "max_height": null,
      "max_width": null,
      "min_height": null,
      "min_width": null,
      "object_fit": null,
      "object_position": null,
      "order": null,
      "overflow": null,
      "overflow_x": null,
      "overflow_y": null,
      "padding": null,
      "right": null,
      "top": null,
      "visibility": null,
      "width": null
     }
    },
    "1382d2457fbf4d5988a59802f25dce3d": {
     "model_module": "@jupyter-widgets/controls",
     "model_module_version": "1.5.0",
     "model_name": "DescriptionStyleModel",
     "state": {
      "_model_module": "@jupyter-widgets/controls",
      "_model_module_version": "1.5.0",
      "_model_name": "DescriptionStyleModel",
      "_view_count": null,
      "_view_module": "@jupyter-widgets/base",
      "_view_module_version": "1.2.0",
      "_view_name": "StyleView",
      "description_width": ""
     }
    },
    "18f27b7351b34339a6ade07d4c2d1dac": {
     "model_module": "@jupyter-widgets/base",
     "model_module_version": "1.2.0",
     "model_name": "LayoutModel",
     "state": {
      "_model_module": "@jupyter-widgets/base",
      "_model_module_version": "1.2.0",
      "_model_name": "LayoutModel",
      "_view_count": null,
      "_view_module": "@jupyter-widgets/base",
      "_view_module_version": "1.2.0",
      "_view_name": "LayoutView",
      "align_content": null,
      "align_items": null,
      "align_self": null,
      "border": null,
      "bottom": null,
      "display": null,
      "flex": null,
      "flex_flow": null,
      "grid_area": null,
      "grid_auto_columns": null,
      "grid_auto_flow": null,
      "grid_auto_rows": null,
      "grid_column": null,
      "grid_gap": null,
      "grid_row": null,
      "grid_template_areas": null,
      "grid_template_columns": null,
      "grid_template_rows": null,
      "height": null,
      "justify_content": null,
      "justify_items": null,
      "left": null,
      "margin": null,
      "max_height": null,
      "max_width": null,
      "min_height": null,
      "min_width": null,
      "object_fit": null,
      "object_position": null,
      "order": null,
      "overflow": null,
      "overflow_x": null,
      "overflow_y": null,
      "padding": null,
      "right": null,
      "top": null,
      "visibility": null,
      "width": null
     }
    },
    "1c8b1b82b6cb4b909466ae7e59553e78": {
     "model_module": "@jupyter-widgets/base",
     "model_module_version": "1.2.0",
     "model_name": "LayoutModel",
     "state": {
      "_model_module": "@jupyter-widgets/base",
      "_model_module_version": "1.2.0",
      "_model_name": "LayoutModel",
      "_view_count": null,
      "_view_module": "@jupyter-widgets/base",
      "_view_module_version": "1.2.0",
      "_view_name": "LayoutView",
      "align_content": null,
      "align_items": null,
      "align_self": null,
      "border": null,
      "bottom": null,
      "display": null,
      "flex": null,
      "flex_flow": null,
      "grid_area": null,
      "grid_auto_columns": null,
      "grid_auto_flow": null,
      "grid_auto_rows": null,
      "grid_column": null,
      "grid_gap": null,
      "grid_row": null,
      "grid_template_areas": null,
      "grid_template_columns": null,
      "grid_template_rows": null,
      "height": null,
      "justify_content": null,
      "justify_items": null,
      "left": null,
      "margin": null,
      "max_height": null,
      "max_width": null,
      "min_height": null,
      "min_width": null,
      "object_fit": null,
      "object_position": null,
      "order": null,
      "overflow": null,
      "overflow_x": null,
      "overflow_y": null,
      "padding": null,
      "right": null,
      "top": null,
      "visibility": null,
      "width": null
     }
    },
    "224200fedd204eb183837695c5d317da": {
     "model_module": "@jupyter-widgets/base",
     "model_module_version": "1.2.0",
     "model_name": "LayoutModel",
     "state": {
      "_model_module": "@jupyter-widgets/base",
      "_model_module_version": "1.2.0",
      "_model_name": "LayoutModel",
      "_view_count": null,
      "_view_module": "@jupyter-widgets/base",
      "_view_module_version": "1.2.0",
      "_view_name": "LayoutView",
      "align_content": null,
      "align_items": null,
      "align_self": null,
      "border": null,
      "bottom": null,
      "display": null,
      "flex": null,
      "flex_flow": null,
      "grid_area": null,
      "grid_auto_columns": null,
      "grid_auto_flow": null,
      "grid_auto_rows": null,
      "grid_column": null,
      "grid_gap": null,
      "grid_row": null,
      "grid_template_areas": null,
      "grid_template_columns": null,
      "grid_template_rows": null,
      "height": null,
      "justify_content": null,
      "justify_items": null,
      "left": null,
      "margin": null,
      "max_height": null,
      "max_width": null,
      "min_height": null,
      "min_width": null,
      "object_fit": null,
      "object_position": null,
      "order": null,
      "overflow": null,
      "overflow_x": null,
      "overflow_y": null,
      "padding": null,
      "right": null,
      "top": null,
      "visibility": null,
      "width": null
     }
    },
    "2fd5278b02734573a304b3acb752e765": {
     "model_module": "@jupyter-widgets/controls",
     "model_module_version": "1.5.0",
     "model_name": "HBoxModel",
     "state": {
      "_dom_classes": [],
      "_model_module": "@jupyter-widgets/controls",
      "_model_module_version": "1.5.0",
      "_model_name": "HBoxModel",
      "_view_count": null,
      "_view_module": "@jupyter-widgets/controls",
      "_view_module_version": "1.5.0",
      "_view_name": "HBoxView",
      "box_style": "",
      "children": [
       "IPY_MODEL_dc66a32ec0d6425791967bb312b0e650",
       "IPY_MODEL_da1aa24124bd46e0983d3b13cf29afde",
       "IPY_MODEL_02a064c2c9c5433a89a140e0c4974176"
      ],
      "layout": "IPY_MODEL_b06dc1005bd44b459740e48a8571765b"
     }
    },
    "308a36808eb44e498dfab9709dc0822c": {
     "model_module": "@jupyter-widgets/controls",
     "model_module_version": "1.5.0",
     "model_name": "DescriptionStyleModel",
     "state": {
      "_model_module": "@jupyter-widgets/controls",
      "_model_module_version": "1.5.0",
      "_model_name": "DescriptionStyleModel",
      "_view_count": null,
      "_view_module": "@jupyter-widgets/base",
      "_view_module_version": "1.2.0",
      "_view_name": "StyleView",
      "description_width": ""
     }
    },
    "34b64944a28e4431a6ca48102851050d": {
     "model_module": "@jupyter-widgets/controls",
     "model_module_version": "1.5.0",
     "model_name": "HBoxModel",
     "state": {
      "_dom_classes": [],
      "_model_module": "@jupyter-widgets/controls",
      "_model_module_version": "1.5.0",
      "_model_name": "HBoxModel",
      "_view_count": null,
      "_view_module": "@jupyter-widgets/controls",
      "_view_module_version": "1.5.0",
      "_view_name": "HBoxView",
      "box_style": "",
      "children": [
       "IPY_MODEL_d45f31230609484bafefab239f37cbfe",
       "IPY_MODEL_05e4c47a3db64b40ad771c9dd1945de5",
       "IPY_MODEL_c3755571e22e4b83b8b2dd76bc8bd22f"
      ],
      "layout": "IPY_MODEL_faebc3910a6b4f58b350d7390ecdc028"
     }
    },
    "35fe6a312182404bb05de8baf3926bbe": {
     "model_module": "@jupyter-widgets/base",
     "model_module_version": "1.2.0",
     "model_name": "LayoutModel",
     "state": {
      "_model_module": "@jupyter-widgets/base",
      "_model_module_version": "1.2.0",
      "_model_name": "LayoutModel",
      "_view_count": null,
      "_view_module": "@jupyter-widgets/base",
      "_view_module_version": "1.2.0",
      "_view_name": "LayoutView",
      "align_content": null,
      "align_items": null,
      "align_self": null,
      "border": null,
      "bottom": null,
      "display": null,
      "flex": null,
      "flex_flow": null,
      "grid_area": null,
      "grid_auto_columns": null,
      "grid_auto_flow": null,
      "grid_auto_rows": null,
      "grid_column": null,
      "grid_gap": null,
      "grid_row": null,
      "grid_template_areas": null,
      "grid_template_columns": null,
      "grid_template_rows": null,
      "height": null,
      "justify_content": null,
      "justify_items": null,
      "left": null,
      "margin": null,
      "max_height": null,
      "max_width": null,
      "min_height": null,
      "min_width": null,
      "object_fit": null,
      "object_position": null,
      "order": null,
      "overflow": null,
      "overflow_x": null,
      "overflow_y": null,
      "padding": null,
      "right": null,
      "top": null,
      "visibility": null,
      "width": null
     }
    },
    "3702c6cd2f2c4853b9fe6007ae1cdcd8": {
     "model_module": "@jupyter-widgets/controls",
     "model_module_version": "1.5.0",
     "model_name": "FloatProgressModel",
     "state": {
      "_dom_classes": [],
      "_model_module": "@jupyter-widgets/controls",
      "_model_module_version": "1.5.0",
      "_model_name": "FloatProgressModel",
      "_view_count": null,
      "_view_module": "@jupyter-widgets/controls",
      "_view_module_version": "1.5.0",
      "_view_name": "ProgressView",
      "bar_style": "success",
      "description": "",
      "description_tooltip": null,
      "layout": "IPY_MODEL_76c80652dfdf45408b708ad043d6d75b",
      "max": 241082,
      "min": 0,
      "orientation": "horizontal",
      "style": "IPY_MODEL_fedb99f35a62418d84d47e304e9b8d02",
      "value": 241082
     }
    },
    "3724f12de65e47b7bb14b096b19ed829": {
     "model_module": "@jupyter-widgets/controls",
     "model_module_version": "1.5.0",
     "model_name": "HTMLModel",
     "state": {
      "_dom_classes": [],
      "_model_module": "@jupyter-widgets/controls",
      "_model_module_version": "1.5.0",
      "_model_name": "HTMLModel",
      "_view_count": null,
      "_view_module": "@jupyter-widgets/controls",
      "_view_module_version": "1.5.0",
      "_view_name": "HTMLView",
      "description": "",
      "description_tooltip": null,
      "layout": "IPY_MODEL_848f7dcc1d1844e9825ffd9db8f9233f",
      "placeholder": "​",
      "style": "IPY_MODEL_b57fd1576c024417932ac85124badc0e",
      "value": " 47.7M/47.7M [00:00&lt;00:00, 225MB/s]"
     }
    },
    "388c38de4a944b08a0e3734d4da18131": {
     "model_module": "@jupyter-widgets/controls",
     "model_module_version": "1.5.0",
     "model_name": "HTMLModel",
     "state": {
      "_dom_classes": [],
      "_model_module": "@jupyter-widgets/controls",
      "_model_module_version": "1.5.0",
      "_model_name": "HTMLModel",
      "_view_count": null,
      "_view_module": "@jupyter-widgets/controls",
      "_view_module_version": "1.5.0",
      "_view_name": "HTMLView",
      "description": "",
      "description_tooltip": null,
      "layout": "IPY_MODEL_76ac302b6be641c386355872504bac68",
      "placeholder": "​",
      "style": "IPY_MODEL_308a36808eb44e498dfab9709dc0822c",
      "value": " 241k/241k [00:00&lt;00:00, 7.85MB/s]"
     }
    },
    "3a835de8c4ad45da9abe0f04e4d1f496": {
     "model_module": "@jupyter-widgets/controls",
     "model_module_version": "1.5.0",
     "model_name": "HTMLModel",
     "state": {
      "_dom_classes": [],
      "_model_module": "@jupyter-widgets/controls",
      "_model_module_version": "1.5.0",
      "_model_name": "HTMLModel",
      "_view_count": null,
      "_view_module": "@jupyter-widgets/controls",
      "_view_module_version": "1.5.0",
      "_view_name": "HTMLView",
      "description": "",
      "description_tooltip": null,
      "layout": "IPY_MODEL_f9b900d540794e688de2867e6588a9bf",
      "placeholder": "​",
      "style": "IPY_MODEL_05f7252b73f94a4ab6cd69f4ebb6aded",
      "value": " 112/112 [00:00&lt;00:00, 7.27kB/s]"
     }
    },
    "3fb6d2d072474932ba9bac6397ba7621": {
     "model_module": "@jupyter-widgets/controls",
     "model_module_version": "1.5.0",
     "model_name": "ProgressStyleModel",
     "state": {
      "_model_module": "@jupyter-widgets/controls",
      "_model_module_version": "1.5.0",
      "_model_name": "ProgressStyleModel",
      "_view_count": null,
      "_view_module": "@jupyter-widgets/base",
      "_view_module_version": "1.2.0",
      "_view_name": "StyleView",
      "bar_color": null,
      "description_width": ""
     }
    },
    "4b3659c7cc9f427bb09fd024a6297c05": {
     "model_module": "@jupyter-widgets/controls",
     "model_module_version": "1.5.0",
     "model_name": "ProgressStyleModel",
     "state": {
      "_model_module": "@jupyter-widgets/controls",
      "_model_module_version": "1.5.0",
      "_model_name": "ProgressStyleModel",
      "_view_count": null,
      "_view_module": "@jupyter-widgets/base",
      "_view_module_version": "1.2.0",
      "_view_name": "StyleView",
      "bar_color": null,
      "description_width": ""
     }
    },
    "4bade1fed70240759b5333e11a1cf10a": {
     "model_module": "@jupyter-widgets/base",
     "model_module_version": "1.2.0",
     "model_name": "LayoutModel",
     "state": {
      "_model_module": "@jupyter-widgets/base",
      "_model_module_version": "1.2.0",
      "_model_name": "LayoutModel",
      "_view_count": null,
      "_view_module": "@jupyter-widgets/base",
      "_view_module_version": "1.2.0",
      "_view_name": "LayoutView",
      "align_content": null,
      "align_items": null,
      "align_self": null,
      "border": null,
      "bottom": null,
      "display": null,
      "flex": null,
      "flex_flow": null,
      "grid_area": null,
      "grid_auto_columns": null,
      "grid_auto_flow": null,
      "grid_auto_rows": null,
      "grid_column": null,
      "grid_gap": null,
      "grid_row": null,
      "grid_template_areas": null,
      "grid_template_columns": null,
      "grid_template_rows": null,
      "height": null,
      "justify_content": null,
      "justify_items": null,
      "left": null,
      "margin": null,
      "max_height": null,
      "max_width": null,
      "min_height": null,
      "min_width": null,
      "object_fit": null,
      "object_position": null,
      "order": null,
      "overflow": null,
      "overflow_x": null,
      "overflow_y": null,
      "padding": null,
      "right": null,
      "top": null,
      "visibility": null,
      "width": null
     }
    },
    "4d77eedeed0641fb83ba543f59a7e65b": {
     "model_module": "@jupyter-widgets/controls",
     "model_module_version": "1.5.0",
     "model_name": "HTMLModel",
     "state": {
      "_dom_classes": [],
      "_model_module": "@jupyter-widgets/controls",
      "_model_module_version": "1.5.0",
      "_model_name": "HTMLModel",
      "_view_count": null,
      "_view_module": "@jupyter-widgets/controls",
      "_view_module_version": "1.5.0",
      "_view_name": "HTMLView",
      "description": "",
      "description_tooltip": null,
      "layout": "IPY_MODEL_d7712064d34348a78c631e4d4412a80f",
      "placeholder": "​",
      "style": "IPY_MODEL_6ca9a6781e5e4cb2b48f6248271f033e",
      "value": "Downloading (…)lve/main/config.json: 100%"
     }
    },
    "527f303f1fb24ff5a0947d07c71cece5": {
     "model_module": "@jupyter-widgets/controls",
     "model_module_version": "1.5.0",
     "model_name": "ProgressStyleModel",
     "state": {
      "_model_module": "@jupyter-widgets/controls",
      "_model_module_version": "1.5.0",
      "_model_name": "ProgressStyleModel",
      "_view_count": null,
      "_view_module": "@jupyter-widgets/base",
      "_view_module_version": "1.2.0",
      "_view_name": "StyleView",
      "bar_color": null,
      "description_width": ""
     }
    },
    "55397242d97049398b3987d206ec5714": {
     "model_module": "@jupyter-widgets/controls",
     "model_module_version": "1.5.0",
     "model_name": "HTMLModel",
     "state": {
      "_dom_classes": [],
      "_model_module": "@jupyter-widgets/controls",
      "_model_module_version": "1.5.0",
      "_model_name": "HTMLModel",
      "_view_count": null,
      "_view_module": "@jupyter-widgets/controls",
      "_view_module_version": "1.5.0",
      "_view_name": "HTMLView",
      "description": "",
      "description_tooltip": null,
      "layout": "IPY_MODEL_56256b4e11764eda9cf156d2d21455af",
      "placeholder": "​",
      "style": "IPY_MODEL_888256ec648545b99bc5d3e32e9a2ad5",
      "value": "Downloading model.safetensors: 100%"
     }
    },
    "56256b4e11764eda9cf156d2d21455af": {
     "model_module": "@jupyter-widgets/base",
     "model_module_version": "1.2.0",
     "model_name": "LayoutModel",
     "state": {
      "_model_module": "@jupyter-widgets/base",
      "_model_module_version": "1.2.0",
      "_model_name": "LayoutModel",
      "_view_count": null,
      "_view_module": "@jupyter-widgets/base",
      "_view_module_version": "1.2.0",
      "_view_name": "LayoutView",
      "align_content": null,
      "align_items": null,
      "align_self": null,
      "border": null,
      "bottom": null,
      "display": null,
      "flex": null,
      "flex_flow": null,
      "grid_area": null,
      "grid_auto_columns": null,
      "grid_auto_flow": null,
      "grid_auto_rows": null,
      "grid_column": null,
      "grid_gap": null,
      "grid_row": null,
      "grid_template_areas": null,
      "grid_template_columns": null,
      "grid_template_rows": null,
      "height": null,
      "justify_content": null,
      "justify_items": null,
      "left": null,
      "margin": null,
      "max_height": null,
      "max_width": null,
      "min_height": null,
      "min_width": null,
      "object_fit": null,
      "object_position": null,
      "order": null,
      "overflow": null,
      "overflow_x": null,
      "overflow_y": null,
      "padding": null,
      "right": null,
      "top": null,
      "visibility": null,
      "width": null
     }
    },
    "57cef29fe4904176884772cf2871b68b": {
     "model_module": "@jupyter-widgets/controls",
     "model_module_version": "1.5.0",
     "model_name": "HTMLModel",
     "state": {
      "_dom_classes": [],
      "_model_module": "@jupyter-widgets/controls",
      "_model_module_version": "1.5.0",
      "_model_name": "HTMLModel",
      "_view_count": null,
      "_view_module": "@jupyter-widgets/controls",
      "_view_module_version": "1.5.0",
      "_view_name": "HTMLView",
      "description": "",
      "description_tooltip": null,
      "layout": "IPY_MODEL_1c8b1b82b6cb4b909466ae7e59553e78",
      "placeholder": "​",
      "style": "IPY_MODEL_f2743f86eb3246848b71e828b84aa1d1",
      "value": " 632/632 [00:00&lt;00:00, 15.4kB/s]"
     }
    },
    "674347752c9c4d4c8cde6b2a22847881": {
     "model_module": "@jupyter-widgets/controls",
     "model_module_version": "1.5.0",
     "model_name": "FloatProgressModel",
     "state": {
      "_dom_classes": [],
      "_model_module": "@jupyter-widgets/controls",
      "_model_module_version": "1.5.0",
      "_model_name": "FloatProgressModel",
      "_view_count": null,
      "_view_module": "@jupyter-widgets/controls",
      "_view_module_version": "1.5.0",
      "_view_name": "ProgressView",
      "bar_style": "success",
      "description": "",
      "description_tooltip": null,
      "layout": "IPY_MODEL_0e9ebd7eec9848f7bcdff9882a4e2c52",
      "max": 47661730,
      "min": 0,
      "orientation": "horizontal",
      "style": "IPY_MODEL_527f303f1fb24ff5a0947d07c71cece5",
      "value": 47661730
     }
    },
    "6ca9a6781e5e4cb2b48f6248271f033e": {
     "model_module": "@jupyter-widgets/controls",
     "model_module_version": "1.5.0",
     "model_name": "DescriptionStyleModel",
     "state": {
      "_model_module": "@jupyter-widgets/controls",
      "_model_module_version": "1.5.0",
      "_model_name": "DescriptionStyleModel",
      "_view_count": null,
      "_view_module": "@jupyter-widgets/base",
      "_view_module_version": "1.2.0",
      "_view_name": "StyleView",
      "description_width": ""
     }
    },
    "76963a7953654a4d9cafa6ad94c63d9c": {
     "model_module": "@jupyter-widgets/base",
     "model_module_version": "1.2.0",
     "model_name": "LayoutModel",
     "state": {
      "_model_module": "@jupyter-widgets/base",
      "_model_module_version": "1.2.0",
      "_model_name": "LayoutModel",
      "_view_count": null,
      "_view_module": "@jupyter-widgets/base",
      "_view_module_version": "1.2.0",
      "_view_name": "LayoutView",
      "align_content": null,
      "align_items": null,
      "align_self": null,
      "border": null,
      "bottom": null,
      "display": null,
      "flex": null,
      "flex_flow": null,
      "grid_area": null,
      "grid_auto_columns": null,
      "grid_auto_flow": null,
      "grid_auto_rows": null,
      "grid_column": null,
      "grid_gap": null,
      "grid_row": null,
      "grid_template_areas": null,
      "grid_template_columns": null,
      "grid_template_rows": null,
      "height": null,
      "justify_content": null,
      "justify_items": null,
      "left": null,
      "margin": null,
      "max_height": null,
      "max_width": null,
      "min_height": null,
      "min_width": null,
      "object_fit": null,
      "object_position": null,
      "order": null,
      "overflow": null,
      "overflow_x": null,
      "overflow_y": null,
      "padding": null,
      "right": null,
      "top": null,
      "visibility": null,
      "width": null
     }
    },
    "76ac302b6be641c386355872504bac68": {
     "model_module": "@jupyter-widgets/base",
     "model_module_version": "1.2.0",
     "model_name": "LayoutModel",
     "state": {
      "_model_module": "@jupyter-widgets/base",
      "_model_module_version": "1.2.0",
      "_model_name": "LayoutModel",
      "_view_count": null,
      "_view_module": "@jupyter-widgets/base",
      "_view_module_version": "1.2.0",
      "_view_name": "LayoutView",
      "align_content": null,
      "align_items": null,
      "align_self": null,
      "border": null,
      "bottom": null,
      "display": null,
      "flex": null,
      "flex_flow": null,
      "grid_area": null,
      "grid_auto_columns": null,
      "grid_auto_flow": null,
      "grid_auto_rows": null,
      "grid_column": null,
      "grid_gap": null,
      "grid_row": null,
      "grid_template_areas": null,
      "grid_template_columns": null,
      "grid_template_rows": null,
      "height": null,
      "justify_content": null,
      "justify_items": null,
      "left": null,
      "margin": null,
      "max_height": null,
      "max_width": null,
      "min_height": null,
      "min_width": null,
      "object_fit": null,
      "object_position": null,
      "order": null,
      "overflow": null,
      "overflow_x": null,
      "overflow_y": null,
      "padding": null,
      "right": null,
      "top": null,
      "visibility": null,
      "width": null
     }
    },
    "76c80652dfdf45408b708ad043d6d75b": {
     "model_module": "@jupyter-widgets/base",
     "model_module_version": "1.2.0",
     "model_name": "LayoutModel",
     "state": {
      "_model_module": "@jupyter-widgets/base",
      "_model_module_version": "1.2.0",
      "_model_name": "LayoutModel",
      "_view_count": null,
      "_view_module": "@jupyter-widgets/base",
      "_view_module_version": "1.2.0",
      "_view_name": "LayoutView",
      "align_content": null,
      "align_items": null,
      "align_self": null,
      "border": null,
      "bottom": null,
      "display": null,
      "flex": null,
      "flex_flow": null,
      "grid_area": null,
      "grid_auto_columns": null,
      "grid_auto_flow": null,
      "grid_auto_rows": null,
      "grid_column": null,
      "grid_gap": null,
      "grid_row": null,
      "grid_template_areas": null,
      "grid_template_columns": null,
      "grid_template_rows": null,
      "height": null,
      "justify_content": null,
      "justify_items": null,
      "left": null,
      "margin": null,
      "max_height": null,
      "max_width": null,
      "min_height": null,
      "min_width": null,
      "object_fit": null,
      "object_position": null,
      "order": null,
      "overflow": null,
      "overflow_x": null,
      "overflow_y": null,
      "padding": null,
      "right": null,
      "top": null,
      "visibility": null,
      "width": null
     }
    },
    "776d9a66146545099c64f76a7e1c54c1": {
     "model_module": "@jupyter-widgets/controls",
     "model_module_version": "1.5.0",
     "model_name": "ProgressStyleModel",
     "state": {
      "_model_module": "@jupyter-widgets/controls",
      "_model_module_version": "1.5.0",
      "_model_name": "ProgressStyleModel",
      "_view_count": null,
      "_view_module": "@jupyter-widgets/base",
      "_view_module_version": "1.2.0",
      "_view_name": "StyleView",
      "bar_color": null,
      "description_width": ""
     }
    },
    "77afac63a49249faab07235389b66a9a": {
     "model_module": "@jupyter-widgets/base",
     "model_module_version": "1.2.0",
     "model_name": "LayoutModel",
     "state": {
      "_model_module": "@jupyter-widgets/base",
      "_model_module_version": "1.2.0",
      "_model_name": "LayoutModel",
      "_view_count": null,
      "_view_module": "@jupyter-widgets/base",
      "_view_module_version": "1.2.0",
      "_view_name": "LayoutView",
      "align_content": null,
      "align_items": null,
      "align_self": null,
      "border": null,
      "bottom": null,
      "display": null,
      "flex": null,
      "flex_flow": null,
      "grid_area": null,
      "grid_auto_columns": null,
      "grid_auto_flow": null,
      "grid_auto_rows": null,
      "grid_column": null,
      "grid_gap": null,
      "grid_row": null,
      "grid_template_areas": null,
      "grid_template_columns": null,
      "grid_template_rows": null,
      "height": null,
      "justify_content": null,
      "justify_items": null,
      "left": null,
      "margin": null,
      "max_height": null,
      "max_width": null,
      "min_height": null,
      "min_width": null,
      "object_fit": null,
      "object_position": null,
      "order": null,
      "overflow": null,
      "overflow_x": null,
      "overflow_y": null,
      "padding": null,
      "right": null,
      "top": null,
      "visibility": null,
      "width": null
     }
    },
    "7c33c050b15b43a5b10272854ed2f28e": {
     "model_module": "@jupyter-widgets/base",
     "model_module_version": "1.2.0",
     "model_name": "LayoutModel",
     "state": {
      "_model_module": "@jupyter-widgets/base",
      "_model_module_version": "1.2.0",
      "_model_name": "LayoutModel",
      "_view_count": null,
      "_view_module": "@jupyter-widgets/base",
      "_view_module_version": "1.2.0",
      "_view_name": "LayoutView",
      "align_content": null,
      "align_items": null,
      "align_self": null,
      "border": null,
      "bottom": null,
      "display": null,
      "flex": null,
      "flex_flow": null,
      "grid_area": null,
      "grid_auto_columns": null,
      "grid_auto_flow": null,
      "grid_auto_rows": null,
      "grid_column": null,
      "grid_gap": null,
      "grid_row": null,
      "grid_template_areas": null,
      "grid_template_columns": null,
      "grid_template_rows": null,
      "height": null,
      "justify_content": null,
      "justify_items": null,
      "left": null,
      "margin": null,
      "max_height": null,
      "max_width": null,
      "min_height": null,
      "min_width": null,
      "object_fit": null,
      "object_position": null,
      "order": null,
      "overflow": null,
      "overflow_x": null,
      "overflow_y": null,
      "padding": null,
      "right": null,
      "top": null,
      "visibility": null,
      "width": null
     }
    },
    "7d805dbf8f504dd78d14c6b31c37779e": {
     "model_module": "@jupyter-widgets/controls",
     "model_module_version": "1.5.0",
     "model_name": "DescriptionStyleModel",
     "state": {
      "_model_module": "@jupyter-widgets/controls",
      "_model_module_version": "1.5.0",
      "_model_name": "DescriptionStyleModel",
      "_view_count": null,
      "_view_module": "@jupyter-widgets/base",
      "_view_module_version": "1.2.0",
      "_view_name": "StyleView",
      "description_width": ""
     }
    },
    "848f7dcc1d1844e9825ffd9db8f9233f": {
     "model_module": "@jupyter-widgets/base",
     "model_module_version": "1.2.0",
     "model_name": "LayoutModel",
     "state": {
      "_model_module": "@jupyter-widgets/base",
      "_model_module_version": "1.2.0",
      "_model_name": "LayoutModel",
      "_view_count": null,
      "_view_module": "@jupyter-widgets/base",
      "_view_module_version": "1.2.0",
      "_view_name": "LayoutView",
      "align_content": null,
      "align_items": null,
      "align_self": null,
      "border": null,
      "bottom": null,
      "display": null,
      "flex": null,
      "flex_flow": null,
      "grid_area": null,
      "grid_auto_columns": null,
      "grid_auto_flow": null,
      "grid_auto_rows": null,
      "grid_column": null,
      "grid_gap": null,
      "grid_row": null,
      "grid_template_areas": null,
      "grid_template_columns": null,
      "grid_template_rows": null,
      "height": null,
      "justify_content": null,
      "justify_items": null,
      "left": null,
      "margin": null,
      "max_height": null,
      "max_width": null,
      "min_height": null,
      "min_width": null,
      "object_fit": null,
      "object_position": null,
      "order": null,
      "overflow": null,
      "overflow_x": null,
      "overflow_y": null,
      "padding": null,
      "right": null,
      "top": null,
      "visibility": null,
      "width": null
     }
    },
    "888256ec648545b99bc5d3e32e9a2ad5": {
     "model_module": "@jupyter-widgets/controls",
     "model_module_version": "1.5.0",
     "model_name": "DescriptionStyleModel",
     "state": {
      "_model_module": "@jupyter-widgets/controls",
      "_model_module_version": "1.5.0",
      "_model_name": "DescriptionStyleModel",
      "_view_count": null,
      "_view_module": "@jupyter-widgets/base",
      "_view_module_version": "1.2.0",
      "_view_name": "StyleView",
      "description_width": ""
     }
    },
    "98d4478ed1d24daeb872540011e2e06e": {
     "model_module": "@jupyter-widgets/base",
     "model_module_version": "1.2.0",
     "model_name": "LayoutModel",
     "state": {
      "_model_module": "@jupyter-widgets/base",
      "_model_module_version": "1.2.0",
      "_model_name": "LayoutModel",
      "_view_count": null,
      "_view_module": "@jupyter-widgets/base",
      "_view_module_version": "1.2.0",
      "_view_name": "LayoutView",
      "align_content": null,
      "align_items": null,
      "align_self": null,
      "border": null,
      "bottom": null,
      "display": null,
      "flex": null,
      "flex_flow": null,
      "grid_area": null,
      "grid_auto_columns": null,
      "grid_auto_flow": null,
      "grid_auto_rows": null,
      "grid_column": null,
      "grid_gap": null,
      "grid_row": null,
      "grid_template_areas": null,
      "grid_template_columns": null,
      "grid_template_rows": null,
      "height": null,
      "justify_content": null,
      "justify_items": null,
      "left": null,
      "margin": null,
      "max_height": null,
      "max_width": null,
      "min_height": null,
      "min_width": null,
      "object_fit": null,
      "object_position": null,
      "order": null,
      "overflow": null,
      "overflow_x": null,
      "overflow_y": null,
      "padding": null,
      "right": null,
      "top": null,
      "visibility": null,
      "width": null
     }
    },
    "9ef58151b20a40a1a942cdf46ea3ae0e": {
     "model_module": "@jupyter-widgets/controls",
     "model_module_version": "1.5.0",
     "model_name": "FloatProgressModel",
     "state": {
      "_dom_classes": [],
      "_model_module": "@jupyter-widgets/controls",
      "_model_module_version": "1.5.0",
      "_model_name": "FloatProgressModel",
      "_view_count": null,
      "_view_module": "@jupyter-widgets/controls",
      "_view_module_version": "1.5.0",
      "_view_name": "ProgressView",
      "bar_style": "success",
      "description": "",
      "description_tooltip": null,
      "layout": "IPY_MODEL_98d4478ed1d24daeb872540011e2e06e",
      "max": 632,
      "min": 0,
      "orientation": "horizontal",
      "style": "IPY_MODEL_f88a8a60b182444a866f448835f71e44",
      "value": 632
     }
    },
    "a0aa96c72b5d4d9b94c89e7edfa9dc30": {
     "model_module": "@jupyter-widgets/controls",
     "model_module_version": "1.5.0",
     "model_name": "HTMLModel",
     "state": {
      "_dom_classes": [],
      "_model_module": "@jupyter-widgets/controls",
      "_model_module_version": "1.5.0",
      "_model_name": "HTMLModel",
      "_view_count": null,
      "_view_module": "@jupyter-widgets/controls",
      "_view_module_version": "1.5.0",
      "_view_name": "HTMLView",
      "description": "",
      "description_tooltip": null,
      "layout": "IPY_MODEL_76963a7953654a4d9cafa6ad94c63d9c",
      "placeholder": "​",
      "style": "IPY_MODEL_e00bb571c35547aeb1f62f08e608ecba",
      "value": "Downloading (…)solve/main/vocab.txt: 100%"
     }
    },
    "a4032d4e1eba4b0c9472edbbd14380c7": {
     "model_module": "@jupyter-widgets/base",
     "model_module_version": "1.2.0",
     "model_name": "LayoutModel",
     "state": {
      "_model_module": "@jupyter-widgets/base",
      "_model_module_version": "1.2.0",
      "_model_name": "LayoutModel",
      "_view_count": null,
      "_view_module": "@jupyter-widgets/base",
      "_view_module_version": "1.2.0",
      "_view_name": "LayoutView",
      "align_content": null,
      "align_items": null,
      "align_self": null,
      "border": null,
      "bottom": null,
      "display": null,
      "flex": null,
      "flex_flow": null,
      "grid_area": null,
      "grid_auto_columns": null,
      "grid_auto_flow": null,
      "grid_auto_rows": null,
      "grid_column": null,
      "grid_gap": null,
      "grid_row": null,
      "grid_template_areas": null,
      "grid_template_columns": null,
      "grid_template_rows": null,
      "height": null,
      "justify_content": null,
      "justify_items": null,
      "left": null,
      "margin": null,
      "max_height": null,
      "max_width": null,
      "min_height": null,
      "min_width": null,
      "object_fit": null,
      "object_position": null,
      "order": null,
      "overflow": null,
      "overflow_x": null,
      "overflow_y": null,
      "padding": null,
      "right": null,
      "top": null,
      "visibility": null,
      "width": null
     }
    },
    "ae879ff5e7954c698f01c661cd75c6b9": {
     "model_module": "@jupyter-widgets/controls",
     "model_module_version": "1.5.0",
     "model_name": "HTMLModel",
     "state": {
      "_dom_classes": [],
      "_model_module": "@jupyter-widgets/controls",
      "_model_module_version": "1.5.0",
      "_model_name": "HTMLModel",
      "_view_count": null,
      "_view_module": "@jupyter-widgets/controls",
      "_view_module_version": "1.5.0",
      "_view_name": "HTMLView",
      "description": "",
      "description_tooltip": null,
      "layout": "IPY_MODEL_c64871c0fbfc40b1b46ffe6a627e2d04",
      "placeholder": "​",
      "style": "IPY_MODEL_b3e1567991fc44b89d786464960a0b60",
      "value": "Downloading (…)cial_tokens_map.json: 100%"
     }
    },
    "b06dc1005bd44b459740e48a8571765b": {
     "model_module": "@jupyter-widgets/base",
     "model_module_version": "1.2.0",
     "model_name": "LayoutModel",
     "state": {
      "_model_module": "@jupyter-widgets/base",
      "_model_module_version": "1.2.0",
      "_model_name": "LayoutModel",
      "_view_count": null,
      "_view_module": "@jupyter-widgets/base",
      "_view_module_version": "1.2.0",
      "_view_name": "LayoutView",
      "align_content": null,
      "align_items": null,
      "align_self": null,
      "border": null,
      "bottom": null,
      "display": null,
      "flex": null,
      "flex_flow": null,
      "grid_area": null,
      "grid_auto_columns": null,
      "grid_auto_flow": null,
      "grid_auto_rows": null,
      "grid_column": null,
      "grid_gap": null,
      "grid_row": null,
      "grid_template_areas": null,
      "grid_template_columns": null,
      "grid_template_rows": null,
      "height": null,
      "justify_content": null,
      "justify_items": null,
      "left": null,
      "margin": null,
      "max_height": null,
      "max_width": null,
      "min_height": null,
      "min_width": null,
      "object_fit": null,
      "object_position": null,
      "order": null,
      "overflow": null,
      "overflow_x": null,
      "overflow_y": null,
      "padding": null,
      "right": null,
      "top": null,
      "visibility": null,
      "width": null
     }
    },
    "b093e05480a14d089d6787509dc75e90": {
     "model_module": "@jupyter-widgets/controls",
     "model_module_version": "1.5.0",
     "model_name": "DescriptionStyleModel",
     "state": {
      "_model_module": "@jupyter-widgets/controls",
      "_model_module_version": "1.5.0",
      "_model_name": "DescriptionStyleModel",
      "_view_count": null,
      "_view_module": "@jupyter-widgets/base",
      "_view_module_version": "1.2.0",
      "_view_name": "StyleView",
      "description_width": ""
     }
    },
    "b0e31db393da44a08f5e7c14deb50e2a": {
     "model_module": "@jupyter-widgets/controls",
     "model_module_version": "1.5.0",
     "model_name": "HBoxModel",
     "state": {
      "_dom_classes": [],
      "_model_module": "@jupyter-widgets/controls",
      "_model_module_version": "1.5.0",
      "_model_name": "HBoxModel",
      "_view_count": null,
      "_view_module": "@jupyter-widgets/controls",
      "_view_module_version": "1.5.0",
      "_view_name": "HBoxView",
      "box_style": "",
      "children": [
       "IPY_MODEL_4d77eedeed0641fb83ba543f59a7e65b",
       "IPY_MODEL_9ef58151b20a40a1a942cdf46ea3ae0e",
       "IPY_MODEL_57cef29fe4904176884772cf2871b68b"
      ],
      "layout": "IPY_MODEL_77afac63a49249faab07235389b66a9a"
     }
    },
    "b1ee6efd269749eca894e32fe036b711": {
     "model_module": "@jupyter-widgets/base",
     "model_module_version": "1.2.0",
     "model_name": "LayoutModel",
     "state": {
      "_model_module": "@jupyter-widgets/base",
      "_model_module_version": "1.2.0",
      "_model_name": "LayoutModel",
      "_view_count": null,
      "_view_module": "@jupyter-widgets/base",
      "_view_module_version": "1.2.0",
      "_view_name": "LayoutView",
      "align_content": null,
      "align_items": null,
      "align_self": null,
      "border": null,
      "bottom": null,
      "display": null,
      "flex": null,
      "flex_flow": null,
      "grid_area": null,
      "grid_auto_columns": null,
      "grid_auto_flow": null,
      "grid_auto_rows": null,
      "grid_column": null,
      "grid_gap": null,
      "grid_row": null,
      "grid_template_areas": null,
      "grid_template_columns": null,
      "grid_template_rows": null,
      "height": null,
      "justify_content": null,
      "justify_items": null,
      "left": null,
      "margin": null,
      "max_height": null,
      "max_width": null,
      "min_height": null,
      "min_width": null,
      "object_fit": null,
      "object_position": null,
      "order": null,
      "overflow": null,
      "overflow_x": null,
      "overflow_y": null,
      "padding": null,
      "right": null,
      "top": null,
      "visibility": null,
      "width": null
     }
    },
    "b3e1567991fc44b89d786464960a0b60": {
     "model_module": "@jupyter-widgets/controls",
     "model_module_version": "1.5.0",
     "model_name": "DescriptionStyleModel",
     "state": {
      "_model_module": "@jupyter-widgets/controls",
      "_model_module_version": "1.5.0",
      "_model_name": "DescriptionStyleModel",
      "_view_count": null,
      "_view_module": "@jupyter-widgets/base",
      "_view_module_version": "1.2.0",
      "_view_name": "StyleView",
      "description_width": ""
     }
    },
    "b57fd1576c024417932ac85124badc0e": {
     "model_module": "@jupyter-widgets/controls",
     "model_module_version": "1.5.0",
     "model_name": "DescriptionStyleModel",
     "state": {
      "_model_module": "@jupyter-widgets/controls",
      "_model_module_version": "1.5.0",
      "_model_name": "DescriptionStyleModel",
      "_view_count": null,
      "_view_module": "@jupyter-widgets/base",
      "_view_module_version": "1.2.0",
      "_view_name": "StyleView",
      "description_width": ""
     }
    },
    "b86a1ad45b6e456086180911d7b0dd04": {
     "model_module": "@jupyter-widgets/base",
     "model_module_version": "1.2.0",
     "model_name": "LayoutModel",
     "state": {
      "_model_module": "@jupyter-widgets/base",
      "_model_module_version": "1.2.0",
      "_model_name": "LayoutModel",
      "_view_count": null,
      "_view_module": "@jupyter-widgets/base",
      "_view_module_version": "1.2.0",
      "_view_name": "LayoutView",
      "align_content": null,
      "align_items": null,
      "align_self": null,
      "border": null,
      "bottom": null,
      "display": null,
      "flex": null,
      "flex_flow": null,
      "grid_area": null,
      "grid_auto_columns": null,
      "grid_auto_flow": null,
      "grid_auto_rows": null,
      "grid_column": null,
      "grid_gap": null,
      "grid_row": null,
      "grid_template_areas": null,
      "grid_template_columns": null,
      "grid_template_rows": null,
      "height": null,
      "justify_content": null,
      "justify_items": null,
      "left": null,
      "margin": null,
      "max_height": null,
      "max_width": null,
      "min_height": null,
      "min_width": null,
      "object_fit": null,
      "object_position": null,
      "order": null,
      "overflow": null,
      "overflow_x": null,
      "overflow_y": null,
      "padding": null,
      "right": null,
      "top": null,
      "visibility": null,
      "width": null
     }
    },
    "bca0a5026ead417bac3e7f29cae6f046": {
     "model_module": "@jupyter-widgets/base",
     "model_module_version": "1.2.0",
     "model_name": "LayoutModel",
     "state": {
      "_model_module": "@jupyter-widgets/base",
      "_model_module_version": "1.2.0",
      "_model_name": "LayoutModel",
      "_view_count": null,
      "_view_module": "@jupyter-widgets/base",
      "_view_module_version": "1.2.0",
      "_view_name": "LayoutView",
      "align_content": null,
      "align_items": null,
      "align_self": null,
      "border": null,
      "bottom": null,
      "display": null,
      "flex": null,
      "flex_flow": null,
      "grid_area": null,
      "grid_auto_columns": null,
      "grid_auto_flow": null,
      "grid_auto_rows": null,
      "grid_column": null,
      "grid_gap": null,
      "grid_row": null,
      "grid_template_areas": null,
      "grid_template_columns": null,
      "grid_template_rows": null,
      "height": null,
      "justify_content": null,
      "justify_items": null,
      "left": null,
      "margin": null,
      "max_height": null,
      "max_width": null,
      "min_height": null,
      "min_width": null,
      "object_fit": null,
      "object_position": null,
      "order": null,
      "overflow": null,
      "overflow_x": null,
      "overflow_y": null,
      "padding": null,
      "right": null,
      "top": null,
      "visibility": null,
      "width": null
     }
    },
    "c3755571e22e4b83b8b2dd76bc8bd22f": {
     "model_module": "@jupyter-widgets/controls",
     "model_module_version": "1.5.0",
     "model_name": "HTMLModel",
     "state": {
      "_dom_classes": [],
      "_model_module": "@jupyter-widgets/controls",
      "_model_module_version": "1.5.0",
      "_model_name": "HTMLModel",
      "_view_count": null,
      "_view_module": "@jupyter-widgets/controls",
      "_view_module_version": "1.5.0",
      "_view_name": "HTMLView",
      "description": "",
      "description_tooltip": null,
      "layout": "IPY_MODEL_a4032d4e1eba4b0c9472edbbd14380c7",
      "placeholder": "​",
      "style": "IPY_MODEL_7d805dbf8f504dd78d14c6b31c37779e",
      "value": " 45412/45412 [07:48&lt;00:00, 82.89it/s]"
     }
    },
    "c64871c0fbfc40b1b46ffe6a627e2d04": {
     "model_module": "@jupyter-widgets/base",
     "model_module_version": "1.2.0",
     "model_name": "LayoutModel",
     "state": {
      "_model_module": "@jupyter-widgets/base",
      "_model_module_version": "1.2.0",
      "_model_name": "LayoutModel",
      "_view_count": null,
      "_view_module": "@jupyter-widgets/base",
      "_view_module_version": "1.2.0",
      "_view_name": "LayoutView",
      "align_content": null,
      "align_items": null,
      "align_self": null,
      "border": null,
      "bottom": null,
      "display": null,
      "flex": null,
      "flex_flow": null,
      "grid_area": null,
      "grid_auto_columns": null,
      "grid_auto_flow": null,
      "grid_auto_rows": null,
      "grid_column": null,
      "grid_gap": null,
      "grid_row": null,
      "grid_template_areas": null,
      "grid_template_columns": null,
      "grid_template_rows": null,
      "height": null,
      "justify_content": null,
      "justify_items": null,
      "left": null,
      "margin": null,
      "max_height": null,
      "max_width": null,
      "min_height": null,
      "min_width": null,
      "object_fit": null,
      "object_position": null,
      "order": null,
      "overflow": null,
      "overflow_x": null,
      "overflow_y": null,
      "padding": null,
      "right": null,
      "top": null,
      "visibility": null,
      "width": null
     }
    },
    "d45f31230609484bafefab239f37cbfe": {
     "model_module": "@jupyter-widgets/controls",
     "model_module_version": "1.5.0",
     "model_name": "HTMLModel",
     "state": {
      "_dom_classes": [],
      "_model_module": "@jupyter-widgets/controls",
      "_model_module_version": "1.5.0",
      "_model_name": "HTMLModel",
      "_view_count": null,
      "_view_module": "@jupyter-widgets/controls",
      "_view_module_version": "1.5.0",
      "_view_name": "HTMLView",
      "description": "",
      "description_tooltip": null,
      "layout": "IPY_MODEL_4bade1fed70240759b5333e11a1cf10a",
      "placeholder": "​",
      "style": "IPY_MODEL_b093e05480a14d089d6787509dc75e90",
      "value": "100%"
     }
    },
    "d7712064d34348a78c631e4d4412a80f": {
     "model_module": "@jupyter-widgets/base",
     "model_module_version": "1.2.0",
     "model_name": "LayoutModel",
     "state": {
      "_model_module": "@jupyter-widgets/base",
      "_model_module_version": "1.2.0",
      "_model_name": "LayoutModel",
      "_view_count": null,
      "_view_module": "@jupyter-widgets/base",
      "_view_module_version": "1.2.0",
      "_view_name": "LayoutView",
      "align_content": null,
      "align_items": null,
      "align_self": null,
      "border": null,
      "bottom": null,
      "display": null,
      "flex": null,
      "flex_flow": null,
      "grid_area": null,
      "grid_auto_columns": null,
      "grid_auto_flow": null,
      "grid_auto_rows": null,
      "grid_column": null,
      "grid_gap": null,
      "grid_row": null,
      "grid_template_areas": null,
      "grid_template_columns": null,
      "grid_template_rows": null,
      "height": null,
      "justify_content": null,
      "justify_items": null,
      "left": null,
      "margin": null,
      "max_height": null,
      "max_width": null,
      "min_height": null,
      "min_width": null,
      "object_fit": null,
      "object_position": null,
      "order": null,
      "overflow": null,
      "overflow_x": null,
      "overflow_y": null,
      "padding": null,
      "right": null,
      "top": null,
      "visibility": null,
      "width": null
     }
    },
    "d92c95bdd1ab4f0f8a448900f17294bf": {
     "model_module": "@jupyter-widgets/controls",
     "model_module_version": "1.5.0",
     "model_name": "HBoxModel",
     "state": {
      "_dom_classes": [],
      "_model_module": "@jupyter-widgets/controls",
      "_model_module_version": "1.5.0",
      "_model_name": "HBoxModel",
      "_view_count": null,
      "_view_module": "@jupyter-widgets/controls",
      "_view_module_version": "1.5.0",
      "_view_name": "HBoxView",
      "box_style": "",
      "children": [
       "IPY_MODEL_a0aa96c72b5d4d9b94c89e7edfa9dc30",
       "IPY_MODEL_3702c6cd2f2c4853b9fe6007ae1cdcd8",
       "IPY_MODEL_388c38de4a944b08a0e3734d4da18131"
      ],
      "layout": "IPY_MODEL_18f27b7351b34339a6ade07d4c2d1dac"
     }
    },
    "da1aa24124bd46e0983d3b13cf29afde": {
     "model_module": "@jupyter-widgets/controls",
     "model_module_version": "1.5.0",
     "model_name": "FloatProgressModel",
     "state": {
      "_dom_classes": [],
      "_model_module": "@jupyter-widgets/controls",
      "_model_module_version": "1.5.0",
      "_model_name": "FloatProgressModel",
      "_view_count": null,
      "_view_module": "@jupyter-widgets/controls",
      "_view_module_version": "1.5.0",
      "_view_name": "ProgressView",
      "bar_style": "success",
      "description": "",
      "description_tooltip": null,
      "layout": "IPY_MODEL_224200fedd204eb183837695c5d317da",
      "max": 341,
      "min": 0,
      "orientation": "horizontal",
      "style": "IPY_MODEL_776d9a66146545099c64f76a7e1c54c1",
      "value": 341
     }
    },
    "dc66a32ec0d6425791967bb312b0e650": {
     "model_module": "@jupyter-widgets/controls",
     "model_module_version": "1.5.0",
     "model_name": "HTMLModel",
     "state": {
      "_dom_classes": [],
      "_model_module": "@jupyter-widgets/controls",
      "_model_module_version": "1.5.0",
      "_model_name": "HTMLModel",
      "_view_count": null,
      "_view_module": "@jupyter-widgets/controls",
      "_view_module_version": "1.5.0",
      "_view_name": "HTMLView",
      "description": "",
      "description_tooltip": null,
      "layout": "IPY_MODEL_35fe6a312182404bb05de8baf3926bbe",
      "placeholder": "​",
      "style": "IPY_MODEL_dfb918d9344643238df4727cef58a55d",
      "value": "Downloading (…)okenizer_config.json: 100%"
     }
    },
    "dfb918d9344643238df4727cef58a55d": {
     "model_module": "@jupyter-widgets/controls",
     "model_module_version": "1.5.0",
     "model_name": "DescriptionStyleModel",
     "state": {
      "_model_module": "@jupyter-widgets/controls",
      "_model_module_version": "1.5.0",
      "_model_name": "DescriptionStyleModel",
      "_view_count": null,
      "_view_module": "@jupyter-widgets/base",
      "_view_module_version": "1.2.0",
      "_view_name": "StyleView",
      "description_width": ""
     }
    },
    "e00bb571c35547aeb1f62f08e608ecba": {
     "model_module": "@jupyter-widgets/controls",
     "model_module_version": "1.5.0",
     "model_name": "DescriptionStyleModel",
     "state": {
      "_model_module": "@jupyter-widgets/controls",
      "_model_module_version": "1.5.0",
      "_model_name": "DescriptionStyleModel",
      "_view_count": null,
      "_view_module": "@jupyter-widgets/base",
      "_view_module_version": "1.2.0",
      "_view_name": "StyleView",
      "description_width": ""
     }
    },
    "ee8f72600fa647fc800c063dfa906a70": {
     "model_module": "@jupyter-widgets/base",
     "model_module_version": "1.2.0",
     "model_name": "LayoutModel",
     "state": {
      "_model_module": "@jupyter-widgets/base",
      "_model_module_version": "1.2.0",
      "_model_name": "LayoutModel",
      "_view_count": null,
      "_view_module": "@jupyter-widgets/base",
      "_view_module_version": "1.2.0",
      "_view_name": "LayoutView",
      "align_content": null,
      "align_items": null,
      "align_self": null,
      "border": null,
      "bottom": null,
      "display": null,
      "flex": null,
      "flex_flow": null,
      "grid_area": null,
      "grid_auto_columns": null,
      "grid_auto_flow": null,
      "grid_auto_rows": null,
      "grid_column": null,
      "grid_gap": null,
      "grid_row": null,
      "grid_template_areas": null,
      "grid_template_columns": null,
      "grid_template_rows": null,
      "height": null,
      "justify_content": null,
      "justify_items": null,
      "left": null,
      "margin": null,
      "max_height": null,
      "max_width": null,
      "min_height": null,
      "min_width": null,
      "object_fit": null,
      "object_position": null,
      "order": null,
      "overflow": null,
      "overflow_x": null,
      "overflow_y": null,
      "padding": null,
      "right": null,
      "top": null,
      "visibility": null,
      "width": null
     }
    },
    "f2743f86eb3246848b71e828b84aa1d1": {
     "model_module": "@jupyter-widgets/controls",
     "model_module_version": "1.5.0",
     "model_name": "DescriptionStyleModel",
     "state": {
      "_model_module": "@jupyter-widgets/controls",
      "_model_module_version": "1.5.0",
      "_model_name": "DescriptionStyleModel",
      "_view_count": null,
      "_view_module": "@jupyter-widgets/base",
      "_view_module_version": "1.2.0",
      "_view_name": "StyleView",
      "description_width": ""
     }
    },
    "f81a8108eaf043afacb76a1c49908ed7": {
     "model_module": "@jupyter-widgets/controls",
     "model_module_version": "1.5.0",
     "model_name": "FloatProgressModel",
     "state": {
      "_dom_classes": [],
      "_model_module": "@jupyter-widgets/controls",
      "_model_module_version": "1.5.0",
      "_model_name": "FloatProgressModel",
      "_view_count": null,
      "_view_module": "@jupyter-widgets/controls",
      "_view_module_version": "1.5.0",
      "_view_name": "ProgressView",
      "bar_style": "success",
      "description": "",
      "description_tooltip": null,
      "layout": "IPY_MODEL_b1ee6efd269749eca894e32fe036b711",
      "max": 112,
      "min": 0,
      "orientation": "horizontal",
      "style": "IPY_MODEL_4b3659c7cc9f427bb09fd024a6297c05",
      "value": 112
     }
    },
    "f88a8a60b182444a866f448835f71e44": {
     "model_module": "@jupyter-widgets/controls",
     "model_module_version": "1.5.0",
     "model_name": "ProgressStyleModel",
     "state": {
      "_model_module": "@jupyter-widgets/controls",
      "_model_module_version": "1.5.0",
      "_model_name": "ProgressStyleModel",
      "_view_count": null,
      "_view_module": "@jupyter-widgets/base",
      "_view_module_version": "1.2.0",
      "_view_name": "StyleView",
      "bar_color": null,
      "description_width": ""
     }
    },
    "f9b900d540794e688de2867e6588a9bf": {
     "model_module": "@jupyter-widgets/base",
     "model_module_version": "1.2.0",
     "model_name": "LayoutModel",
     "state": {
      "_model_module": "@jupyter-widgets/base",
      "_model_module_version": "1.2.0",
      "_model_name": "LayoutModel",
      "_view_count": null,
      "_view_module": "@jupyter-widgets/base",
      "_view_module_version": "1.2.0",
      "_view_name": "LayoutView",
      "align_content": null,
      "align_items": null,
      "align_self": null,
      "border": null,
      "bottom": null,
      "display": null,
      "flex": null,
      "flex_flow": null,
      "grid_area": null,
      "grid_auto_columns": null,
      "grid_auto_flow": null,
      "grid_auto_rows": null,
      "grid_column": null,
      "grid_gap": null,
      "grid_row": null,
      "grid_template_areas": null,
      "grid_template_columns": null,
      "grid_template_rows": null,
      "height": null,
      "justify_content": null,
      "justify_items": null,
      "left": null,
      "margin": null,
      "max_height": null,
      "max_width": null,
      "min_height": null,
      "min_width": null,
      "object_fit": null,
      "object_position": null,
      "order": null,
      "overflow": null,
      "overflow_x": null,
      "overflow_y": null,
      "padding": null,
      "right": null,
      "top": null,
      "visibility": null,
      "width": null
     }
    },
    "faebc3910a6b4f58b350d7390ecdc028": {
     "model_module": "@jupyter-widgets/base",
     "model_module_version": "1.2.0",
     "model_name": "LayoutModel",
     "state": {
      "_model_module": "@jupyter-widgets/base",
      "_model_module_version": "1.2.0",
      "_model_name": "LayoutModel",
      "_view_count": null,
      "_view_module": "@jupyter-widgets/base",
      "_view_module_version": "1.2.0",
      "_view_name": "LayoutView",
      "align_content": null,
      "align_items": null,
      "align_self": null,
      "border": null,
      "bottom": null,
      "display": null,
      "flex": null,
      "flex_flow": null,
      "grid_area": null,
      "grid_auto_columns": null,
      "grid_auto_flow": null,
      "grid_auto_rows": null,
      "grid_column": null,
      "grid_gap": null,
      "grid_row": null,
      "grid_template_areas": null,
      "grid_template_columns": null,
      "grid_template_rows": null,
      "height": null,
      "justify_content": null,
      "justify_items": null,
      "left": null,
      "margin": null,
      "max_height": null,
      "max_width": null,
      "min_height": null,
      "min_width": null,
      "object_fit": null,
      "object_position": null,
      "order": null,
      "overflow": null,
      "overflow_x": null,
      "overflow_y": null,
      "padding": null,
      "right": null,
      "top": null,
      "visibility": null,
      "width": null
     }
    },
    "fafbb4c8bf36449f93e0125b0b73c67c": {
     "model_module": "@jupyter-widgets/controls",
     "model_module_version": "1.5.0",
     "model_name": "HBoxModel",
     "state": {
      "_dom_classes": [],
      "_model_module": "@jupyter-widgets/controls",
      "_model_module_version": "1.5.0",
      "_model_name": "HBoxModel",
      "_view_count": null,
      "_view_module": "@jupyter-widgets/controls",
      "_view_module_version": "1.5.0",
      "_view_name": "HBoxView",
      "box_style": "",
      "children": [
       "IPY_MODEL_ae879ff5e7954c698f01c661cd75c6b9",
       "IPY_MODEL_f81a8108eaf043afacb76a1c49908ed7",
       "IPY_MODEL_3a835de8c4ad45da9abe0f04e4d1f496"
      ],
      "layout": "IPY_MODEL_bca0a5026ead417bac3e7f29cae6f046"
     }
    },
    "fedb99f35a62418d84d47e304e9b8d02": {
     "model_module": "@jupyter-widgets/controls",
     "model_module_version": "1.5.0",
     "model_name": "ProgressStyleModel",
     "state": {
      "_model_module": "@jupyter-widgets/controls",
      "_model_module_version": "1.5.0",
      "_model_name": "ProgressStyleModel",
      "_view_count": null,
      "_view_module": "@jupyter-widgets/base",
      "_view_module_version": "1.2.0",
      "_view_name": "StyleView",
      "bar_color": null,
      "description_width": ""
     }
    }
   }
  }
 },
 "nbformat": 4,
 "nbformat_minor": 1
}
